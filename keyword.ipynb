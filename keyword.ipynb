{
 "cells": [
  {
   "cell_type": "code",
   "execution_count": 200,
   "metadata": {},
   "outputs": [],
   "source": [
    "import spacy\n",
    "import pytextrank"
   ]
  },
  {
   "cell_type": "code",
   "execution_count": 211,
   "metadata": {},
   "outputs": [],
   "source": [
    "document = \"\"\"India recorded its lowest daily Covid-19 cases in over four months on Tuesday as it\n",
    "registered 30,093 fresh cases of the coronavirus disease, the Union ministry of health and\n",
    "family welfare data showed. The last time India's Covid-19 tally was below 30,000-mark was on \n",
    "March 16 when the country saw 28,903 fresh cases.\n",
    "\n",
    "The country also saw 374 deaths due to Covid-19 in the last 24 hours, taking the death toll to 414,482. This is also the lowest death count India has seen after over three months. India witnessed deaths below 400 on March 30 when 354 fatalities were recorded.\n",
    "\n",
    "Active cases of Covid-19 in the last 24 hours dipped sharply by 15,535, bringing the current infections in the country down to 406,130, the health ministry data showed. These account for 1.35% of the total infections reported in the country.\n",
    "\n",
    "At least 45,254 people recovered from the infectious disease in the last 24 hours, taking India's recovery rate to 97.32%.\"\"\""
   ]
  },
  {
   "cell_type": "code",
   "execution_count": 212,
   "metadata": {},
   "outputs": [],
   "source": [
    "en_nlp = spacy.load(\"en_core_web_sm\")\n",
    "en_nlp.add_pipe(\"textrank\")\n",
    "doc = en_nlp(document)"
   ]
  },
  {
   "cell_type": "code",
   "execution_count": 213,
   "metadata": {},
   "outputs": [
    {
     "name": "stdout",
     "output_type": "stream",
     "text": [
      "16.001462936401367\n"
     ]
    }
   ],
   "source": [
    "tr = doc._.textrank\n",
    "print(tr.elapsed_time);"
   ]
  },
  {
   "cell_type": "code",
   "execution_count": 214,
   "metadata": {},
   "outputs": [
    {
     "name": "stdout",
     "output_type": "stream",
     "text": [
      "family welfare data 0.12600090030695432 1\n",
      "Active cases 0.10762708856818633 1\n",
      "Covid-19 0.0972910880017003 2\n",
      "its lowest daily Covid-19 cases 0.08493733074461425 1\n",
      "deaths 0.08105682814454315 1\n",
      "the health ministry data 0.07832397465246121 1\n",
      "India 0.07622677252903803 8\n",
      "28,903 fresh cases 0.07129934511205784 1\n",
      "30,093 fresh cases 0.07129934511205784 1\n",
      "health 0.07040385930179857 1\n",
      "Indias Covid-19 tally 0.06832929773944697 1\n",
      "March 0.06820137241457065 2\n",
      "Tuesday 0.06730934841577292 2\n",
      "the Union ministry 0.05804340764065743 1\n",
      "daily 0.05801486530369755 1\n",
      "the health ministry 0.05736999157497043 1\n",
      "Indias recovery rate 0.05719488369024152 1\n",
      "the coronavirus disease 0.05620344960951462 1\n",
      "the lowest death count 0.055052440762211316 1\n",
      "The country 0.052203381342001136 1\n",
      "the country 0.052203381342001136 3\n",
      "the Union ministry of health 0.051315344525987495 1\n",
      "the current infections 0.05102621920759585 1\n",
      "the total infections 0.050044489310882095 1\n",
      "the death toll 0.04958030523542612 1\n",
      "the infectious disease 0.04872959082364312 1\n",
      "the last 24 hours 0.04444644936605378 6\n",
      "374 deaths 0.03743854523912738 1\n",
      "1.35% 0.03631222553448415 2\n",
      "97.32% 0.03631222553448415 2\n",
      "three months 0.03499235800709229 1\n",
      "March 16 0.03150086457812342 1\n",
      "March 30 0.03150086457812342 1\n",
      "over four months 0.025410903713624283 2\n",
      "over three months 0.025410903713624283 1\n",
      "354 fatalities 0.024747622479328494 1\n",
      "At least 45,254 people 0.018251076082325113 1\n",
      "30,000-mark 0.017958869221694186 2\n",
      "These account 0.01537302848030652 1\n",
      "At least 45,254 0.011163653115937398 1\n",
      "15,535 0.0 1\n",
      "28,903 0.0 1\n",
      "30,093 0.0 1\n",
      "354 0.0 1\n",
      "374 0.0 1\n",
      "400 0.0 1\n",
      "406,130 0.0 1\n",
      "414,482 0.0 1\n",
      "This 0.0 1\n",
      "it 0.0 1\n"
     ]
    }
   ],
   "source": [
    "for combination in doc._.phrases:\n",
    "    print(combination.text, combination.rank, combination.count)"
   ]
  },
  {
   "cell_type": "code",
   "execution_count": 215,
   "metadata": {},
   "outputs": [
    {
     "name": "stdout",
     "output_type": "stream",
     "text": [
      "Phrase(text='family welfare data', chunks=[family welfare data], count=1, rank=0.12600090030695432)\n",
      "Phrase(text='Active cases', chunks=[Active cases], count=1, rank=0.10762708856818633)\n",
      "Phrase(text='Covid-19', chunks=[Covid-19, Covid-19], count=2, rank=0.0972910880017003)\n",
      "Phrase(text='its lowest daily Covid-19 cases', chunks=[its lowest daily Covid-19 cases], count=1, rank=0.08493733074461425)\n",
      "Phrase(text='deaths', chunks=[deaths], count=1, rank=0.08105682814454315)\n"
     ]
    }
   ],
   "source": [
    "en_nlp = spacy.load(\"en_core_web_sm\")\n",
    "en_nlp.add_pipe(\"textrank\", config={ \"stopwords\": { \"word\": [\"NOUN\"] } })\n",
    "doc = en_nlp(document)\n",
    "for phrase in doc._.phrases[:5]:\n",
    "    print(phrase)"
   ]
  },
  {
   "cell_type": "code",
   "execution_count": 216,
   "metadata": {},
   "outputs": [
    {
     "data": {
      "text/plain": [
       "\"India recorded its lowest daily Covid-19 cases in over four months on Tuesday as it\\nregistered 30,093 fresh cases of the coronavirus disease, the Union ministry of health and\\nfamily welfare data showed. The last time India's Covid-19 tally was below 30,000-mark was on \\nMarch 16 when the country saw 28,903 fresh cases.\\n\\nThe country also saw 374 deaths due to Covid-19 in the last 24 hours, taking the death toll to 414,482. This is also the lowest death count India has seen after over three months. India witnessed deaths below 400 on March 30 when 354 fatalities were recorded.\\n\\nActive cases of Covid-19 in the last 24 hours dipped sharply by 15,535, bringing the current infections in the country down to 406,130, the health ministry data showed. These account for 1.35% of the total infections reported in the country.\\n\\nAt least 45,254 people recovered from the infectious disease in the last 24 hours, taking India's recovery rate to 97.32%.\""
      ]
     },
     "execution_count": 216,
     "metadata": {},
     "output_type": "execute_result"
    }
   ],
   "source": [
    "document"
   ]
  },
  {
   "cell_type": "code",
   "execution_count": 218,
   "metadata": {},
   "outputs": [
    {
     "name": "stdout",
     "output_type": "stream",
     "text": [
      "India recorded its lowest daily Covid-19 cases in over four months on Tuesday as it\n",
      "registered 30,093 fresh cases of the coronavirus disease, the Union ministry of health and\n",
      "family welfare data showed.\n",
      "Active cases of Covid-19 in the last 24 hours dipped sharply by 15,535, bringing the current infections in the country down to 406,130, the health ministry data showed.\n"
     ]
    }
   ],
   "source": [
    "tr = doc._.textrank\n",
    "for sent in tr.summary(limit_phrases=10, limit_sentences=2):\n",
    "    print(sent)"
   ]
  },
  {
   "cell_type": "code",
   "execution_count": 225,
   "metadata": {},
   "outputs": [
    {
     "name": "stdout",
     "output_type": "stream",
     "text": [
      "India recorded its lowest daily Covid-19 cases in over four months on Tuesday as it\n",
      "Active cases of Covid-19 in the last 24 hours dipped sharply by 15,535, bringing the current infections in the country down to 406,130, the health ministry data showed.\n"
     ]
    }
   ],
   "source": [
    "from summa import summarizer\n",
    "from summa import keywords\n",
    "print(summarizer.summarize(document))\n"
   ]
  },
  {
   "cell_type": "code",
   "execution_count": 223,
   "metadata": {},
   "outputs": [
    {
     "name": "stdout",
     "output_type": "stream",
     "text": [
      "india\n",
      "deaths\n",
      "death\n",
      "infections\n",
      "ministry\n",
      "data\n",
      "disease\n",
      "covid\n",
      "fresh\n"
     ]
    }
   ],
   "source": [
    "print(keywords.keywords(document))"
   ]
  },
  {
   "cell_type": "code",
   "execution_count": null,
   "metadata": {},
   "outputs": [],
   "source": []
  }
 ],
 "metadata": {
  "kernelspec": {
   "display_name": "Python 3.9.0 64-bit",
   "language": "python",
   "name": "python3"
  },
  "language_info": {
   "codemirror_mode": {
    "name": "ipython",
    "version": 3
   },
   "file_extension": ".py",
   "mimetype": "text/x-python",
   "name": "python",
   "nbconvert_exporter": "python",
   "pygments_lexer": "ipython3",
   "version": "3.9.0"
  },
  "orig_nbformat": 4,
  "vscode": {
   "interpreter": {
    "hash": "859ef65fa55a925e20aa771782360236ab65f00587d9b546257e1840550cad7e"
   }
  }
 },
 "nbformat": 4,
 "nbformat_minor": 2
}
