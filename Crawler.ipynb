{
 "cells": [
  {
   "cell_type": "code",
   "execution_count": 11,
   "metadata": {},
   "outputs": [
    {
     "name": "stderr",
     "output_type": "stream",
     "text": [
      "[nltk_data] Downloading package brown to\n",
      "[nltk_data]     C:\\Users\\Harsha\\AppData\\Roaming\\nltk_data...\n",
      "[nltk_data]   Package brown is already up-to-date!\n"
     ]
    }
   ],
   "source": [
    "from urllib.request import urlopen\n",
    "from bs4 import BeautifulSoup\n",
    "import ssl\n",
    "import spacy\n",
    "import nltk\n",
    "import requests\n",
    "import certifi\n",
    "import time\n",
    "from nltk.corpus import brown\n",
    "nltk.download('brown')\n",
    "\n",
    "nlp = spacy.load(\"en_core_web_sm\")\n",
    "sw_spacy = nlp.Defaults.stop_words\n",
    "\n",
    "from nltk.stem.porter import *\n",
    "from collections import defaultdict"
   ]
  },
  {
   "cell_type": "code",
   "execution_count": 12,
   "metadata": {},
   "outputs": [],
   "source": [
    "vocab = set(brown.words())\n",
    "\n",
    "stemmer = PorterStemmer()\n",
    "d = defaultdict(set)\n",
    "for v in vocab:\n",
    "    d[stemmer.stem(v)].add(v)  "
   ]
  },
  {
   "cell_type": "code",
   "execution_count": 13,
   "metadata": {},
   "outputs": [
    {
     "name": "stdout",
     "output_type": "stream",
     "text": [
      "let\n",
      "letting\n",
      "lets\n"
     ]
    }
   ],
   "source": [
    "possible = d[stemmer.stem('letting')]\n",
    "for p in possible:\n",
    "    if p.islower():\n",
    "        print(p)"
   ]
  },
  {
   "cell_type": "code",
   "execution_count": 14,
   "metadata": {},
   "outputs": [
    {
     "data": {
      "text/plain": [
       "True"
      ]
     },
     "execution_count": 14,
     "metadata": {},
     "output_type": "execute_result"
    }
   ],
   "source": [
    "def check_noun(word):\n",
    "    doc = nlp(word)\n",
    "\n",
    "    if(doc[0].tag_ == 'NNP'):\n",
    "        return True\n",
    "    else:\n",
    "        return False\n",
    "\n",
    "check_noun(\"chakri\")"
   ]
  },
  {
   "cell_type": "code",
   "execution_count": 15,
   "metadata": {},
   "outputs": [
    {
     "name": "stdout",
     "output_type": "stream",
     "text": [
      "works\n"
     ]
    }
   ],
   "source": [
    "test = ['free', 'will', 'changing', 'destiny', 'choosing', 'love', 'choice', 'soul', 'conditioning', 'acceptance']\n",
    "\n",
    "if 'soul' in test:\n",
    "    print('works')"
   ]
  },
  {
   "cell_type": "code",
   "execution_count": 16,
   "metadata": {},
   "outputs": [],
   "source": [
    "def remove_stopwords(text):\n",
    "\n",
    "    # words = [word for word in text.split() if word.lower() not in sw_spacy]\n",
    "    # new_text = \" \".join(words)\n",
    "    # print(new_text)\n",
    "    # print(\"Old length: \", len(text))\n",
    "    # print(\"New length: \", len(new_text))\n",
    "\n",
    "    res = []\n",
    "    for word in text:\n",
    "        if word not in sw_spacy:\n",
    "            res.append(word)\n",
    "    return res\n"
   ]
  },
  {
   "cell_type": "code",
   "execution_count": 17,
   "metadata": {},
   "outputs": [
    {
     "name": "stdout",
     "output_type": "stream",
     "text": [
      "['live', 'in', 'the', 'present', 'to', 'create', 'the', 'life', 'you', 'desire']\n",
      "['the', 'present', 'living', 'in', 'now', 'gift', 'of', 'moment', 'unknown', 'future', 'painful', 'past']\n",
      "['present', 'live']\n"
     ]
    }
   ],
   "source": [
    "\n",
    "\n",
    "page = urlopen(\n",
    "    \"https://ezinearticles.com/?Live-In-the-Present-to-Create-the-Life-You-Desire&id=6504152\",\n",
    "    context=ssl.create_default_context(cafile=certifi.where()))\n",
    "\n",
    "\n",
    "soup = BeautifulSoup(page, 'html.parser')\n",
    "title = soup.title.string.lower().split()\n",
    "key = soup.select(\"meta[name='keywords']\")[0]['content'].lower().split(\",\")\n",
    "\n",
    "print(title)\n",
    "keywords = [] \n",
    "for k in key:\n",
    "    \n",
    "    for word in k.split():\n",
    "        if word not in keywords:\n",
    "            keywords.append(word)\n",
    "\n",
    "result=[]\n",
    "\n",
    "print(keywords)\n",
    "\n",
    "for word in title:\n",
    "    if check_noun(word):\n",
    "        if word not in result:\n",
    "            result.append(word)\n",
    "\n",
    "for word in keywords:\n",
    "    possible = d[stemmer.stem(word)]\n",
    "    for p in possible:\n",
    "        if p in title:\n",
    "            if p not in result:\n",
    "                result.append(p)\n",
    "        \n",
    "result= remove_stopwords(result)\n",
    "print(result)"
   ]
  },
  {
   "cell_type": "code",
   "execution_count": 18,
   "metadata": {},
   "outputs": [
    {
     "data": {
      "text/plain": [
       "<Response [200]>"
      ]
     },
     "execution_count": 18,
     "metadata": {},
     "output_type": "execute_result"
    }
   ],
   "source": [
    "url=\"https://ezinearticles.com/?Live-In-the-Present-to-Create-the-Life-You-Desire&id=6504152\"\n",
    "requests.get(url,verify=True)"
   ]
  },
  {
   "cell_type": "code",
   "execution_count": 19,
   "metadata": {},
   "outputs": [
    {
     "name": "stdout",
     "output_type": "stream",
     "text": [
      "[]\n"
     ]
    }
   ],
   "source": [
    "page = urlopen(\n",
    "    \"https://ezinearticles.com/?Live-In-the-Present-to-Create-the-Life-You-Desire&id=6504152\",\n",
    "    context=ssl.create_default_context(cafile=certifi.where()))\n",
    "\n",
    "\n",
    "soup = BeautifulSoup(page, 'html.parser')\n",
    "name = 'ezinearticles'\n",
    "found = []\n",
    "for a in soup.select('a[href]'):\n",
    "    b = a['href']\n",
    "    if 'https://' + name + '.com' in b and b not in found:\n",
    "        found.append(b)\n",
    "        break\n",
    "\n",
    "print(found)\n",
    "\n",
    "\n"
   ]
  },
  {
   "cell_type": "code",
   "execution_count": 20,
   "metadata": {},
   "outputs": [],
   "source": [
    "def full_url(partial_url):\n",
    "    return \"https://ezinearticles.com\"+partial_url"
   ]
  },
  {
   "cell_type": "code",
   "execution_count": 21,
   "metadata": {},
   "outputs": [
    {
     "ename": "AttributeError",
     "evalue": "'str' object has no attribute 'get_attribute_list'",
     "output_type": "error",
     "traceback": [
      "\u001b[1;31m---------------------------------------------------------------------------\u001b[0m",
      "\u001b[1;31mAttributeError\u001b[0m                            Traceback (most recent call last)",
      "\u001b[1;32m<ipython-input-21-d97d5ae32c74>\u001b[0m in \u001b[0;36m<module>\u001b[1;34m\u001b[0m\n\u001b[0;32m      5\u001b[0m \u001b[1;32mfor\u001b[0m \u001b[0mi\u001b[0m \u001b[1;32min\u001b[0m \u001b[0mrange\u001b[0m\u001b[1;33m(\u001b[0m\u001b[1;36m0\u001b[0m\u001b[1;33m,\u001b[0m\u001b[0mlen\u001b[0m\u001b[1;33m(\u001b[0m\u001b[0mtest1\u001b[0m\u001b[1;33m)\u001b[0m\u001b[1;33m)\u001b[0m\u001b[1;33m:\u001b[0m\u001b[1;33m\u001b[0m\u001b[1;33m\u001b[0m\u001b[0m\n\u001b[0;32m      6\u001b[0m     \u001b[0mtag\u001b[0m \u001b[1;33m=\u001b[0m \u001b[0mtest\u001b[0m\u001b[1;33m[\u001b[0m\u001b[0mi\u001b[0m\u001b[1;33m]\u001b[0m\u001b[1;33m\u001b[0m\u001b[1;33m\u001b[0m\u001b[0m\n\u001b[1;32m----> 7\u001b[1;33m     \u001b[0mprint\u001b[0m\u001b[1;33m(\u001b[0m\u001b[0mfull_url\u001b[0m\u001b[1;33m(\u001b[0m\u001b[0mtag\u001b[0m\u001b[1;33m.\u001b[0m\u001b[0mget_attribute_list\u001b[0m\u001b[1;33m(\u001b[0m\u001b[1;34m'href'\u001b[0m\u001b[1;33m)\u001b[0m\u001b[1;33m[\u001b[0m\u001b[1;36m0\u001b[0m\u001b[1;33m]\u001b[0m\u001b[1;33m)\u001b[0m\u001b[1;33m)\u001b[0m\u001b[1;33m\u001b[0m\u001b[1;33m\u001b[0m\u001b[0m\n\u001b[0m",
      "\u001b[1;31mAttributeError\u001b[0m: 'str' object has no attribute 'get_attribute_list'"
     ]
    }
   ],
   "source": [
    "mydivs = soup.find_all(\"ul\", {\"class\": \"ea-similar-articles ea-article-list\"})[0]\n",
    "type(mydivs)\n",
    "#mydivs\n",
    "test1 = mydivs.findChildren('a')\n",
    "for i in range(0,len(test1)):\n",
    "    tag = test[i]\n",
    "    print(full_url(tag.get_attribute_list('href')[0]))\n"
   ]
  },
  {
   "cell_type": "code",
   "execution_count": 22,
   "metadata": {},
   "outputs": [
    {
     "ename": "AttributeError",
     "evalue": "'str' object has no attribute 'get_attribute_list'",
     "output_type": "error",
     "traceback": [
      "\u001b[1;31m---------------------------------------------------------------------------\u001b[0m",
      "\u001b[1;31mAttributeError\u001b[0m                            Traceback (most recent call last)",
      "\u001b[1;32m<ipython-input-22-df2a9e916b37>\u001b[0m in \u001b[0;36m<module>\u001b[1;34m\u001b[0m\n\u001b[1;32m----> 1\u001b[1;33m \u001b[0mtype\u001b[0m\u001b[1;33m(\u001b[0m\u001b[0mtest\u001b[0m\u001b[1;33m[\u001b[0m\u001b[1;36m0\u001b[0m\u001b[1;33m]\u001b[0m\u001b[1;33m.\u001b[0m\u001b[0mget_attribute_list\u001b[0m\u001b[1;33m(\u001b[0m\u001b[1;34m'href'\u001b[0m\u001b[1;33m)\u001b[0m\u001b[1;33m[\u001b[0m\u001b[1;36m0\u001b[0m\u001b[1;33m]\u001b[0m\u001b[1;33m)\u001b[0m\u001b[1;33m\u001b[0m\u001b[1;33m\u001b[0m\u001b[0m\n\u001b[0m",
      "\u001b[1;31mAttributeError\u001b[0m: 'str' object has no attribute 'get_attribute_list'"
     ]
    }
   ],
   "source": [
    "type(test[0].get_attribute_list('href')[0])"
   ]
  },
  {
   "cell_type": "code",
   "execution_count": 23,
   "metadata": {},
   "outputs": [],
   "source": [
    "\n",
    "def spider(found_titles, url, found):\n",
    "    try:\n",
    "        page = urlopen(url,context=ssl.create_default_context(cafile=certifi.where()))\n",
    "        soup = BeautifulSoup(page, 'html.parser')\n",
    "\n",
    "        og_title = soup.title.string.lower()\n",
    "        title = soup.title.string.lower().split()\n",
    "        key = soup.select(\"meta[name='keywords']\")[0]['content'].lower().split(\",\")\n",
    "        keywords = [] \n",
    "        for k in key:\n",
    "            for word in k.split():\n",
    "                if word not in keywords:\n",
    "                    keywords.append(word)\n",
    "\n",
    "        result=[]\n",
    "\n",
    "        print(keywords)\n",
    "\n",
    "        for word in title:\n",
    "            if check_noun(word):\n",
    "                if word not in result:\n",
    "                    result.append(word)\n",
    "\n",
    "        for word in keywords:\n",
    "            possible = d[stemmer.stem(word)]\n",
    "            for p in possible:\n",
    "                if p in title:\n",
    "                    if p not in result:\n",
    "                        result.append(p)\n",
    "        result= remove_stopwords(result)\n",
    "        \n",
    "        if len(result) > 0 and og_title not in found_titles:\n",
    "            found_titles.append(og_title)\n",
    "            print(og_title)\n",
    "            print(result)\n",
    "\n",
    "            f = open('test.txt', 'a')\n",
    "            f.write(\n",
    "                og_title + \"\\t\" + ' '.join(\n",
    "                    k.replace(' ', '_') for k in result\n",
    "                ) + \"\\n\"\n",
    "            )\n",
    "            f.close()\n",
    "        \n",
    "        mydivs = soup.find_all(\"ul\", {\"class\": \"ea-similar-articles ea-article-list\"})[0]\n",
    "        #print(mydivs)\n",
    "        \n",
    "        if mydivs:\n",
    "            test1 = mydivs.findChildren('a')\n",
    "            #print(\"here: \",test1)\n",
    "            if test1:\n",
    "                for i in range(0,len(test1)):\n",
    "                    tag = test1[i]\n",
    "                    \n",
    "                    url_here = full_url(tag.get_attribute_list('href')[0])\n",
    "                    print(\"url here: \",url_here)\n",
    "                    if url_here not in found:\n",
    "                        found.append(url_here)\n",
    "                        time.sleep(30)\n",
    "                        spider(found_titles,url_here,found)\n",
    "        \n",
    "    except:\n",
    "        pass"
   ]
  },
  {
   "cell_type": "code",
   "execution_count": null,
   "metadata": {},
   "outputs": [
    {
     "name": "stdout",
     "output_type": "stream",
     "text": [
      "['public', 'health', 'pandemic', 'fatigue', 'mandates', 'common', 'sense', 'vaccines', 'masks']\n",
      "some dangers from pandemic fatigue\n",
      "['pandemic', 'fatigue']\n",
      "url here:  https://ezinearticles.com/?5-Common-Sense-Reasons,-To-Remain-Vigilant,-About-Public-Health-Issues&id=10308823\n",
      "['public', 'health', 'common', 'sense', 'social', 'distancing', 'wear', 'a', 'mask', 'pandemic', 'virus', 'reopening', 'america', 'trump']\n",
      "5 common sense reasons, to remain vigilant, about public health issues\n",
      "['public', 'health', 'common', 'sense']\n",
      "url here:  https://ezinearticles.com/?Use-Common-Sense-And-Social-Responsibility,-Or-Delay-Pandemic-Recovery!:-5-Considerations&id=10325977\n",
      "['common', 'sense', 'social', 'responsibility', 'public', 'health', 'pandemic', 'recovery', 'wear', 'a', 'mask', 'distancing']\n",
      "use common sense and social responsibility, or delay pandemic recovery!: 5 considerations\n",
      "['common', 'sense', 'social', 'pandemic']\n",
      "url here:  https://ezinearticles.com/?6-Basic-Steps-To-Gain-Control-Over-The-Course-Of-The-Virus&id=10328425\n",
      "['common', 'sense', 'basic', 'steps', 'public', 'health', 'good', 'leaders', 'president', 'trump', 'pandemic', 'covid19']\n",
      "6 basic steps to gain control over the course of the virus\n",
      "['basic', 'steps']\n",
      "url here:  https://ezinearticles.com/?6-Common-Sense-Public-Health---Oriented-Behaviors&id=10392530\n",
      "['public', 'health', 'common', 'sense', 'science', 'matters', 'pandemic', 'virus', 'wear', 'a', 'mask', 'social', 'spacing', 'responsibility']\n",
      "6 common sense public health - oriented behaviors\n",
      "['public', 'health', 'common', 'sense']\n",
      "url here:  https://ezinearticles.com/?Use-Common-Sense-And-Social-Responsibility,-Or-Delay-Pandemic-Recovery!:-5-Considerations&id=10325977\n",
      "url here:  https://ezinearticles.com/?5-Reasons-Some-Continue-To-Refuse-To-Wear-Masks!&id=10433242\n",
      "['wear', 'masks', 'public', 'health', 'science', 'matters', 'vaccinations', 'pandemic', 'common', 'sense', 'social', 'spacing']\n",
      "5 reasons some continue to refuse to wear masks!\n",
      "['wear']\n",
      "url here:  https://ezinearticles.com/?Why-Our-Pandemic-Response-Has-Made-Things-Worse?:-7-Considerations&id=10347412\n",
      "['deadly', 'pandemic', 'response', 'public', 'health', 'made', 'things', 'worse', 'common', 'sense', 'science', 'matters', 'data', 'counts']\n",
      "why our pandemic response has made things worse?: 7 considerations\n",
      "['pandemic', 'response', 'things']\n",
      "url here:  https://ezinearticles.com/?If-You-Want-A-Better-Economy,-Stop-The-Pandemics-Spread!:-6-Keys&id=10394141\n",
      "url here:  https://ezinearticles.com/?6-Basic-Steps-To-Gain-Control-Over-The-Course-Of-The-Virus&id=10328425\n",
      "url here:  https://ezinearticles.com/?6-Essential-American-Common-Sense-Protections!&id=10506918\n",
      "url here:  https://ezinearticles.com/?COMMON-Sense-And-The-Greater-Good!&id=10374584\n",
      "url here:  https://ezinearticles.com/?Use-Common-Sense-And-Social-Responsibility,-Or-Delay-Pandemic-Recovery!:-5-Considerations&id=10325977\n",
      "url here:  https://ezinearticles.com/?Common-Sense-In-Politics:-An-Oxymoron?&id=9942115\n",
      "url here:  https://ezinearticles.com/?Public-Health-Demands-Trusting-The-DATA!&id=10302154\n",
      "url here:  https://ezinearticles.com/?Herd-Immunity:-False-Hope,-Achievable,-Public-Health-Risk,-Risk/-Reward&id=10348918\n",
      "url here:  https://ezinearticles.com/?5-Common-Sense-Reasons,-To-Remain-Vigilant,-About-Public-Health-Issues&id=10308823\n",
      "url here:  https://ezinearticles.com/?Pay-Attention-To-Public-Health,-Or-Risk-A-Serious-Second-Wave!:-4-Considerations&id=10348942\n",
      "url here:  https://ezinearticles.com/?Is-He-A-Clear-Danger-To-Public-Health?:-At-Least,-5-Examples&id=10299712\n",
      "['public', 'health', 'experts', 'world', 'organization', 'clear', 'danger', 'president', 'trump', 'pandemic', 'reopening']\n",
      "is he a clear danger to public health?: at least, 5 examples\n",
      "['public', 'clear', 'danger']\n",
      "url here:  https://ezinearticles.com/?5-Half---Baked-Justifications-Given-For-Avoiding-Common-Sense-Public-Health-Behaviors!&id=10399949\n",
      "['common', 'sense', 'public', 'health', 'half', 'baked', 'justifications', 'wear', 'a', 'mask', 'social', 'distancing', 'covid', 'pandemic']\n",
      "5 half - baked justifications given for avoiding common sense public health behaviors!\n",
      "['common', 'sense', 'public', 'health', 'half', 'baked', 'justifications']\n",
      "url here:  https://ezinearticles.com/?Why-Does-It-Seem,-Theres-Still-No-Public-Health-Plan?:-7-Considerations&id=10340845\n",
      "['public', 'health', 'plan', 'experts', 'pandemic', 'virus', 'national', 'approach', 'reopen', 'schools', 'safely']\n",
      "why does it seem, there's still no public health plan?: 7 considerations\n",
      "['public', 'health']\n",
      "url here:  https://ezinearticles.com/?6-Common-Sense-Public-Health---Oriented-Behaviors&id=10392530\n",
      "url here:  https://ezinearticles.com/?5-Important-Reasons-Science-Matters-For-Public-Health&id=10369820\n",
      "['public', 'health', 'science', 'matters', 'trump', 'bloomberg', 'research', 'ramifications', 'action', 'plan', 'strategic', 'planning']\n",
      "5 important reasons science matters for public health\n",
      "['public', 'health', 'science', 'matters']\n",
      "url here:  https://ezinearticles.com/?Data-And-Science-Matter:-Trumps-Dangerous-Pandemic-Response!&id=10334476\n",
      "['public', 'health', 'dangerous', 'pandemic', 'response', 'science', 'matter', 'data', 'counts', 'not', 'a', 'hoax', 'wear', 'mask']\n",
      "data and science matter: trump's dangerous pandemic response!\n",
      "['dangerous', 'pandemic', 'science', 'data']\n",
      "url here:  https://ezinearticles.com/?Pay-Attention-To-Public-Health,-Or-Risk-A-Serious-Second-Wave!:-4-Considerations&id=10348942\n",
      "url here:  https://ezinearticles.com/?How-Good-Was-Trumps-Pandemic-Response?:-7-Considerations&id=10336480\n",
      "url here:  https://ezinearticles.com/?Use-Common-Sense-And-Social-Responsibility,-Or-Delay-Pandemic-Recovery!:-5-Considerations&id=10325977\n",
      "url here:  https://ezinearticles.com/?How-Many-MORE-Must-Die?&id=10352443\n",
      "url here:  https://ezinearticles.com/?5-Industries-Where-Vaccine-Mandates-Are-Needed-For-Public-Health-Concerns!&id=10533210\n",
      "url here:  https://ezinearticles.com/?Why-Politics-Doesnt-Excuse-Abandoning-Safe-Public-Health-Measures?:-5-Examples&id=10289968\n",
      "url here:  https://ezinearticles.com/?Public-Health-Is-Not-A-Crap-Game!:-6-Flaws&id=10271500\n",
      "url here:  https://ezinearticles.com/?COVID-19-Is-Still-Around!:-Dont-Be-Foolish,-Or-Ignore-Public-Health!:-5-Keys&id=10334881\n",
      "url here:  https://ezinearticles.com/?Encouraging-Defiance-Of-Public-Health-Considerations:-5-Things-To-Consider&id=10285384\n",
      "url here:  https://ezinearticles.com/?Public-Health-Requires-Science/-Data,-Phased---In-Planning,-Patience,-And-Review!&id=10302145\n",
      "url here:  https://ezinearticles.com/?Why-Data,-And-Science,-MATTER?&id=10358179\n",
      "url here:  https://ezinearticles.com/?Public-Health-Demands-Trusting-The-DATA!&id=10302154\n",
      "url here:  https://ezinearticles.com/?Pay-Attention-To-Public-Health,-Or-Risk-A-Serious-Second-Wave!:-4-Considerations&id=10348942\n",
      "url here:  https://ezinearticles.com/?COVID-19-Is-Still-Around!:-Dont-Be-Foolish,-Or-Ignore-Public-Health!:-5-Keys&id=10334881\n",
      "url here:  https://ezinearticles.com/?Public-Health-Requires-Science/-Data,-Phased---In-Planning,-Patience,-And-Review!&id=10302145\n",
      "url here:  https://ezinearticles.com/?Why-Politics-Doesnt-Excuse-Abandoning-Safe-Public-Health-Measures?:-5-Examples&id=10289968\n",
      "url here:  https://ezinearticles.com/?Is-He-A-Clear-Danger-To-Public-Health?:-At-Least,-5-Examples&id=10299712\n",
      "url here:  https://ezinearticles.com/?5-Common-Sense-Reasons,-To-Remain-Vigilant,-About-Public-Health-Issues&id=10308823\n",
      "url here:  https://ezinearticles.com/?5-Common-Sense-Behaviors-To-Minimize-Public-Health-Risks&id=10322944\n",
      "url here:  https://ezinearticles.com/?Public-Health-Demands-Trusting-The-DATA!&id=10302154\n",
      "url here:  https://ezinearticles.com/?Public-Health---Need-For-Vaccinations-And-Masks:-5-Myths-Dismissed!&id=10504941\n",
      "url here:  https://ezinearticles.com/?6-Common-Sense-Public-Health---Oriented-Behaviors&id=10392530\n",
      "url here:  https://ezinearticles.com/?The-Path-Out-From-This-Pandemic:-Common-Sense,-Discipline,-Social-Responsibility,-And-Time!&id=10417346\n",
      "url here:  https://ezinearticles.com/?5-Common-Sense-Behaviors-To-Minimize-Public-Health-Risks&id=10322944\n",
      "url here:  https://ezinearticles.com/?4-Reasons-You-Dont-Have-The-Right-To-Ignore-Public-Health-Needs!&id=10313857\n",
      "url here:  https://ezinearticles.com/?6-Common-Sense-Values,-Which-Should-Be-Our-2021-New-Years-Resolutions!&id=10401644\n",
      "url here:  https://ezinearticles.com/?Freedoms-Should-Be-Protected,-But-With-Common-Sense-Limitations!:-6-Examples&id=10366048\n",
      "url here:  https://ezinearticles.com/?Your-So---Called,-Freedom,-Is-Not-More-Important-Than-Public-Health!:-5-Key-Principles&id=10287046\n",
      "url here:  https://ezinearticles.com/?The-Path-Out-From-This-Pandemic:-Common-Sense,-Discipline,-Social-Responsibility,-And-Time!&id=10417346\n",
      "url here:  https://ezinearticles.com/?5-Half---Baked-Justifications-Given-For-Avoiding-Common-Sense-Public-Health-Behaviors!&id=10399949\n",
      "url here:  https://ezinearticles.com/?6-Common-Sense-Public-Health---Oriented-Behaviors&id=10392530\n",
      "url here:  https://ezinearticles.com/?5-Common-Sense-Behaviors-To-Minimize-Public-Health-Risks&id=10322944\n",
      "url here:  https://ezinearticles.com/?Use-Common-Sense-And-Social-Responsibility,-Or-Delay-Pandemic-Recovery!:-5-Considerations&id=10325977\n",
      "url here:  https://ezinearticles.com/?Shouldnt-Public-Officials-Serve-The-PUBLIC?&id=10001930\n",
      "url here:  https://ezinearticles.com/?Public-Fame-or-Misplaced-Public-Trust?&id=6672952\n",
      "url here:  https://ezinearticles.com/?5-Areas-Where-Public-Officials-Must-Align-Well---Considered,-Relevant,-And-Sustainable-Idealism!&id=10538907\n",
      "url here:  https://ezinearticles.com/?5-Things-We-Must-Do-To-Beat-This-Pandemic!&id=10442221\n"
     ]
    }
   ],
   "source": [
    "start_url = [\n",
    "    \"https://ezinearticles.com/?Some-Dangers-From-Pandemic-Fatigue&id=10554149\",\n",
    "    \"https://ezinearticles.com/?Uses-of-Silicon-Carbide-Ceramics-in-Different-Industries&id=10550034\",\n",
    "    \"https://ezinearticles.com/?What-Might-Be-Next-In-The-Economy?&id=10554161\",\n",
    "    \"https://ezinearticles.com/?Appointments---Manage-Your-Time-Better-At-Home-to-Be-Effective&id=10553717\",\n",
    "    \"https://ezinearticles.com/?Appointments---The-Importance-of-Making-Appointments-for-Entrepreneurs&id=1055409\"\n",
    "    ]\n",
    "\n",
    "found = [start_url[0]]\n",
    "found_titles = []\n",
    "for starter in start_url:\n",
    "    spider(found_titles,start_url[0],found)"
   ]
  },
  {
   "cell_type": "code",
   "execution_count": null,
   "metadata": {},
   "outputs": [
    {
     "data": {
      "text/plain": [
       "['https://ezinearticles.com/?Uses-of-Silicon-Carbide-Ceramics-in-Different-Industries&id=10550034',\n",
       " 'https://ezinearticles.com/?All-About-Silicon-Carbide-Ceramic&id=9875605',\n",
       " 'https://ezinearticles.com/?Know-About-All-the-Properties-of-Silicon-Carbide-Ceramic&id=9649701',\n",
       " 'https://ezinearticles.com/?Low-Cost-Synthesis-of-Silicon-Carbide-and-Silicon-Nitride&id=7087791',\n",
       " 'https://ezinearticles.com/?Reaction-Bonded-Silicon-Carbide:-Advantages,-Application-and-Products&id=10543934',\n",
       " 'https://ezinearticles.com/?Know-the-Uses-of-Reaction-Bonded-Silicon-Carbide&id=9911315',\n",
       " 'https://ezinearticles.com/?Some-Useful-Facts-of-Silicon-Carbide&id=9616116',\n",
       " 'https://ezinearticles.com/?Know-the-Benefits-of-Using-Silicon-Carbide&id=9590883',\n",
       " 'https://ezinearticles.com/?Know-The-Useful-Benefits-Of-Using-Silicon-Carbide&id=9664080',\n",
       " 'https://ezinearticles.com/?Some-Important-Features-of-Silicon-Carbide&id=9787995',\n",
       " 'https://ezinearticles.com/?Know-the-Several-Applications-of-Silicon-Carbide&id=9786591',\n",
       " 'https://ezinearticles.com/?Silicone-RTV-Rubber-Moulds-And-Mould-Making-Compounds&id=7656986',\n",
       " 'https://ezinearticles.com/?An-Overview-of-SiC-Material&id=10550031',\n",
       " 'https://ezinearticles.com/?Silicon-Carbide---Achesons-Blessing-in-Disguise&id=9114254',\n",
       " 'https://ezinearticles.com/?Silicon-Carbide---All-About-This-Serendipitous-Discovery&id=9875224',\n",
       " 'https://ezinearticles.com/?Everything-About-Sintered-Silicon-Carbide&id=9666615',\n",
       " 'https://ezinearticles.com/?Wear-Resistant-Ceramic---The-Ceramic-With-A-Difference!&id=7653256',\n",
       " 'https://ezinearticles.com/?Silicon-Carbide-Brushes-for-Edge-Prep---Versatile-Honing-Brushes-for-Many-Jobs&id=7022649',\n",
       " 'https://ezinearticles.com/?Ceramic-Tile-Types---Your-Complete-Electrical-Solution&id=9068929',\n",
       " 'https://ezinearticles.com/?Properties-and-Uses-of-Boron-Carbide-Powder&id=9772158']"
      ]
     },
     "execution_count": 10,
     "metadata": {},
     "output_type": "execute_result"
    }
   ],
   "source": [
    "found"
   ]
  },
  {
   "cell_type": "code",
   "execution_count": 24,
   "metadata": {},
   "outputs": [],
   "source": [
    "ted_url = \"https://www.ted.com/talks/david_keith_a_critical_look_at_geoengineering_against_climate_change\""
   ]
  },
  {
   "cell_type": "code",
   "execution_count": 25,
   "metadata": {},
   "outputs": [],
   "source": [
    "def nospecial(text):\n",
    "\timport re\n",
    "\ttext = re.sub(\"[^a-zA-Z0-9]+\", \"\",text)\n",
    "\treturn text"
   ]
  },
  {
   "cell_type": "code",
   "execution_count": 26,
   "metadata": {},
   "outputs": [
    {
     "name": "stderr",
     "output_type": "stream",
     "text": [
      "<ipython-input-26-8466ba985218>:9: RuntimeWarning: coroutine 'HTML.arender' was never awaited\n",
      "  r.html.arender()\n",
      "RuntimeWarning: Enable tracemalloc to get the object allocation traceback\n"
     ]
    },
    {
     "data": {
      "text/plain": [
       "[]"
      ]
     },
     "execution_count": 26,
     "metadata": {},
     "output_type": "execute_result"
    }
   ],
   "source": [
    "import nest_asyncio\n",
    "nest_asyncio.apply()\n",
    "\n",
    "\n",
    "from requests_html import HTMLSession\n",
    "\n",
    "session = HTMLSession()\n",
    "r = session.get(ted_url)\n",
    "r.html.arender()\n",
    "soup = BeautifulSoup(r.text, 'html.parser')\n",
    "test = soup.find_all(\"div\",{\"class\":\"tabs\"})\n",
    "divs = soup.find_all(\"div\",{\"id\":\"tabs--1--panel--0\"})\n",
    "test\n"
   ]
  },
  {
   "cell_type": "code",
   "execution_count": null,
   "metadata": {},
   "outputs": [
    {
     "data": {
      "text/plain": [
       "[]"
      ]
     },
     "execution_count": 73,
     "metadata": {},
     "output_type": "execute_result"
    }
   ],
   "source": []
  },
  {
   "cell_type": "code",
   "execution_count": 27,
   "metadata": {},
   "outputs": [],
   "source": [
    "import requests\n",
    "custom_User_agent = \"Mozilla/5.0 (Windows NT 6.1; Win64; x64; rv:47.0) Gecko/20100101 Firefox/47.0\"\n",
    "url = ted_url\n",
    "response = requests.get(url, headers={\"User-Agent\": custom_User_agent})\n",
    "html_text = response.text\n",
    "soup = BeautifulSoup(html_text, 'html.parser')"
   ]
  },
  {
   "cell_type": "code",
   "execution_count": null,
   "metadata": {},
   "outputs": [],
   "source": [
    "\n",
    "test = soup.find_all(\"div\",{\"class\":\"tabs\"})\n",
    "test = soup.find_all(\"div\",{\"class\":\"pt-6\"})\n",
    "divs = soup.find_all(\"div\",{\"id\":\"tabs--1--panel--0\"})\n",
    "\n",
    "print(test,divs)"
   ]
  },
  {
   "cell_type": "code",
   "execution_count": 29,
   "metadata": {},
   "outputs": [],
   "source": [
    "# import nest_asyncio\n",
    "# nest_asyncio.apply()\n",
    "\n",
    "# from requests_html import AsyncHTMLSession\n",
    "\n",
    "# session = AsyncHTMLSession()\n",
    "# r = session.get(ted_url)\n",
    "# r.html.render()\n",
    "\n",
    "page = urlopen(ted_url,context=ssl.create_default_context(cafile=certifi.where()))\n",
    "\n",
    "soup = BeautifulSoup(page, 'html.parser')\n",
    "#soup = BeautifulSoup(page, 'lxml')\n",
    "og_title = soup.title.string.lower()\n",
    "title = soup.title.string.lower().split()\n",
    "key = soup.select(\"meta[name='keywords']\")[0]['content'].lower().split(\",\")\n",
    "keywords = [] \n",
    "for k in key:\n",
    "    for word in k.split():\n",
    "        if word not in keywords:\n",
    "            keywords.append(word)\n",
    "\n",
    "result=[]\n",
    "\n",
    "\n",
    "for i in range(0,len(title)):\n",
    "    title[i] = nospecial(title[i])\n",
    "\n",
    "while(\"\" in title):\n",
    "    title.remove(\"\")\n",
    "\n",
    "# print(title)\n",
    "# print(keywords)\n",
    "\n",
    "for word in title:\n",
    "    if check_noun(word) :\n",
    "        if word not in result:\n",
    "            result.append(word)\n",
    "\n",
    "for word in title:\n",
    "    if word in keywords:\n",
    "        if word not in result:\n",
    "            result.append(word)\n",
    "\n",
    "for word in keywords :\n",
    "    possible = d[stemmer.stem(word)]\n",
    "    possible = [p.lower() for p in possible]\n",
    "    for p in possible:\n",
    "        if p in title:\n",
    "            if p not in result:\n",
    "                result.append(p)\n",
    "\n",
    "result= remove_stopwords(result)\n",
    "if \"ted\" in result:\n",
    "    result.remove(\"ted\")\n",
    "if \"talk\" in result:\n",
    "    result.remove(\"talk\")\n",
    "if \"talks\" in result:\n",
    "    result.remove(\"talks\")\n",
    "# print(result)\n",
    "# for a in soup.find_all('a'):\n",
    "#     print(a)\n",
    "# for x in soup.find_all('aside'):\n",
    "#     print(x)\n",
    "aside = soup.find_all('aside')\n",
    "hyper = soup.find_all('a')\n",
    "# for i in soup.find_all('aside'):\n",
    "#     print(i.text)\n",
    "# images = []\n",
    "# for img in soup.findAll('img'):\n",
    "#     images.append(img.get('src'))\n",
    "\n",
    "# print(images)\n",
    "# mydivs = soup.find_all(\"a\", {\"class\": \"mb-5 block p-3\"})\n",
    "# print(mydivs)\n",
    "\n"
   ]
  },
  {
   "cell_type": "code",
   "execution_count": 30,
   "metadata": {},
   "outputs": [
    {
     "data": {
      "text/plain": [
       "bs4.element.Tag"
      ]
     },
     "execution_count": 30,
     "metadata": {},
     "output_type": "execute_result"
    }
   ],
   "source": [
    "type(aside[0])"
   ]
  },
  {
   "cell_type": "code",
   "execution_count": 31,
   "metadata": {},
   "outputs": [
    {
     "data": {
      "text/plain": [
       "[<a class=\"rounded-sm\" href=\"/membership?utm_medium=display&amp;utm_source=talkpage&amp;utm_campaign=membership-ted&amp;utm_content=06172021-talkpagebanner\"><div class=\"py-3 relative rounded-sm inline-flex items-center select-none transition-colors duration-1000 justify-center min-w-button px-4 min-h-button-sm text-white bg-red-700 hover:bg-red-900\"><div class=\"transition-opacity duration-300 inline-flex items-center opacity-100\"><div class=\"text-xs font-bold\">Join now</div></div></div></a>,\n",
       " <a class=\"inline-block py-1 text-tui-sm capitalize underline\" href=\"/topics/climate+change\">climate change</a>,\n",
       " <a class=\"inline-block py-1 text-tui-sm capitalize underline\" href=\"/topics/global+issues\">global issues</a>,\n",
       " <a class=\"inline-block py-1 text-tui-sm capitalize underline\" href=\"/topics/science\">science</a>,\n",
       " <a class=\"inline-block py-1 text-tui-sm capitalize underline\" href=\"/topics/technology\">technology</a>,\n",
       " <a class=\"inline-block py-1 text-tui-sm capitalize underline\" href=\"/topics/engineering\">engineering</a>,\n",
       " <a class=\"inline-block py-1 text-tui-sm capitalize underline\" href=\"/topics/business\">business</a>,\n",
       " <a class=\"inline-block py-1 text-tui-sm capitalize underline\" href=\"/topics/china\">china</a>]"
      ]
     },
     "execution_count": 31,
     "metadata": {},
     "output_type": "execute_result"
    }
   ],
   "source": [
    "aside[0].findChildren('a')"
   ]
  },
  {
   "cell_type": "code",
   "execution_count": null,
   "metadata": {},
   "outputs": [],
   "source": [
    "hyper"
   ]
  },
  {
   "cell_type": "code",
   "execution_count": null,
   "metadata": {},
   "outputs": [
    {
     "data": {
      "text/plain": [
       "[<div class=\"relative w-full overflow-hidden tabs-overflow-container\"><span aria-hidden=\"true\" class=\"absolute top-0 h-full w-14 transition-opacity -mt-px from-white pointer-events-none z-10 left-0 bg-gradient-to-r -ml-px opacity-0\"></span><div class=\"no-scrollbar-horizontal flex overflow-auto\"><div aria-orientation=\"horizontal\" class=\"flex flex-nowrap w-full\" data-reach-tab-list=\"\" role=\"tablist\"><button aria-controls=\"tabs--panel---1\" aria-selected=\"false\" class=\"group outline-inside text-gray-500 hover:text-gray-700 focus:text-gray-700 transition-colors pr-3 pl-3 first:pl-0 last:pr-0 relative md:pr-4 md:pl-4 xl:pr-5 xl:pl-5\" data-orientation=\"horizontal\" data-reach-tab=\"\" id=\"tabs--tab---1\" role=\"tab\" tabindex=\"-1\" type=\"button\"><div class=\"relative tab-text pb-3\"><h4 class=\"text-lg xl:text-2xl font-bold tracking-normal whitespace-nowrap out\">Watch next</h4></div></button></div></div><span aria-hidden=\"true\" class=\"absolute top-0 h-full w-14 transition-opacity -mt-px from-white pointer-events-none z-10 right-0 bg-gradient-to-l -mr-px opacity-0\"></span></div>]"
      ]
     },
     "execution_count": 70,
     "metadata": {},
     "output_type": "execute_result"
    }
   ],
   "source": [
    "mydivs = soup.find_all(\"div\", {\"class\": \"relative w-full overflow-hidden tabs-overflow-container\"})\n",
    "mydivs"
   ]
  },
  {
   "cell_type": "code",
   "execution_count": 32,
   "metadata": {},
   "outputs": [
    {
     "data": {
      "text/plain": [
       "[]"
      ]
     },
     "execution_count": 32,
     "metadata": {},
     "output_type": "execute_result"
    }
   ],
   "source": [
    "mydivs = soup.find_all(\"div\", {\"id\": \"tabspanel\"})\n",
    "mydivs"
   ]
  },
  {
   "cell_type": "code",
   "execution_count": 33,
   "metadata": {},
   "outputs": [
    {
     "data": {
      "text/plain": [
       "<a class=\"outline-inside flex items-center py-4\" href=\"/\"><svg class=\"h-6 lg:mr-3\" fill=\"none\" viewbox=\"0 0 68 24\" xmlns=\"http://www.w3.org/2000/svg\"><path clip-rule=\"evenodd\" d=\"M21.419 0v6.151h-6.763V24h-7.44V6.151H.453V0H21.42zm21.484 0v6.141l-12.918.01v2.946h12.918v5.73l-12.918-.009v3.03h12.918V24H22.546V0h20.357zm13.446 0c8.048 0 10.889 5.916 10.889 11.966C67.237 19.328 63.314 24 54.894 24H44.142V0h12.207zm-2.4 6.151H51.58V17.85h2.908c4.633 0 5.31-3.731 5.31-5.983 0-1.513-.474-5.715-5.85-5.715z\" fill=\"#EC1015\" fill-rule=\"evenodd\"></path></svg><div class=\"text-sm hidden text-gray-500 lg:block\">Ideas worth spreading</div></a>"
      ]
     },
     "execution_count": 33,
     "metadata": {},
     "output_type": "execute_result"
    }
   ],
   "source": [
    "soup.findChildren('a')[2]"
   ]
  },
  {
   "cell_type": "code",
   "execution_count": 36,
   "metadata": {},
   "outputs": [],
   "source": [
    "\n",
    "import requests\n",
    "from bs4 import BeautifulSoup\n",
    "from selenium import webdriver\n",
    "from selenium.webdriver.common.keys import Keys\n",
    "import time\n",
    "\n",
    "\n",
    "\n",
    "driver = webdriver.Chrome('./personalTests/chromedriver.exe') \n",
    "driver.get(ted_url) \n",
    "time.sleep(5) \n",
    "html = driver.page_source\n",
    "soup = BeautifulSoup(html, \"html.parser\")\n",
    "driver.close() "
   ]
  },
  {
   "cell_type": "code",
   "execution_count": null,
   "metadata": {},
   "outputs": [],
   "source": [
    "divs =soup.find_all(\"a\",{\"class\":\"mb-5 block p-3\"})\n",
    "divs"
   ]
  },
  {
   "cell_type": "code",
   "execution_count": 53,
   "metadata": {},
   "outputs": [
    {
     "name": "stdout",
     "output_type": "stream",
     "text": [
      "/talks/juan_enriquez_using_biology_to_rethink_the_energy_challenge\n",
      "/talks/john_doerr_salvation_and_profit_in_greentech\n",
      "/talks/alex_steffen_the_route_to_a_sustainable_future\n",
      "/talks/james_hansen_why_i_must_speak_out_about_climate_change\n",
      "/talks/gavin_schmidt_the_emergent_patterns_of_climate_change\n",
      "/talks/al_gore_new_thinking_on_the_climate_crisis\n"
     ]
    }
   ],
   "source": [
    "for d in divs:\n",
    "    href = d.get_attribute_list(\"href\")\n",
    "    print(href[0])\n",
    "    "
   ]
  },
  {
   "cell_type": "code",
   "execution_count": null,
   "metadata": {},
   "outputs": [],
   "source": [
    "page = urlopen(ted_url,context=ssl.create_default_context(cafile=certifi.where()))\n",
    "\n",
    "soup = BeautifulSoup(page, 'html.parser')"
   ]
  },
  {
   "cell_type": "code",
   "execution_count": 67,
   "metadata": {},
   "outputs": [
    {
     "name": "stdout",
     "output_type": "stream",
     "text": [
      "Timed out waiting for page to load\n",
      "Page loaded\n",
      "Timed out waiting for page to load\n",
      "Page loaded\n",
      "Timed out waiting for page to load\n",
      "Page loaded\n",
      "Timed out waiting for page to load\n",
      "Page loaded\n",
      "Timed out waiting for page to load\n",
      "Page loaded\n",
      "Timed out waiting for page to load\n",
      "Page loaded\n",
      "Timed out waiting for page to load\n",
      "Page loaded\n"
     ]
    }
   ],
   "source": [
    "import requests\n",
    "from bs4 import BeautifulSoup\n",
    "from selenium import webdriver\n",
    "from selenium.webdriver.common.keys import Keys\n",
    "from selenium.webdriver.common.by import By\n",
    "from selenium.common.exceptions import TimeoutException\n",
    "from selenium.webdriver.support.ui import WebDriverWait\n",
    "# from selenium.webdriver.support.wait import WebDriverWait\n",
    "from selenium.webdriver.support import expected_conditions as EC\n",
    "import time\n",
    "\n",
    "start_url = \"https://www.ted.com/talks/olivia_vinckier_a_colorful_case_for_outside_the_box_thinking_on_identity\"\n",
    "\n",
    "driver = webdriver.Chrome('./personalTests/chromedriver.exe') \n",
    "\n",
    "\n",
    "def spider(url,titles,found):\n",
    "    \n",
    "\n",
    "    driver.get(url) \n",
    "    timeout = 3\n",
    "    try:\n",
    "        element_present = EC.presence_of_element_located((By.ID, 'main'))\n",
    "        WebDriverWait(driver, timeout).until(element_present)\n",
    "    except TimeoutException:\n",
    "        print(\"Timed out waiting for page to load\")\n",
    "    finally:\n",
    "        print(\"Page loaded\")\n",
    "    html = driver.page_source\n",
    "    soup = BeautifulSoup(html, \"html.parser\")\n",
    "    og_title = soup.title.string.lower()\n",
    "    title = soup.title.string.lower().split()\n",
    "    key = soup.select(\"meta[name='keywords']\")[0]['content'].lower().split(\",\")\n",
    "    keywords = [] \n",
    "    for k in key:\n",
    "        for word in k.split():\n",
    "            if word not in keywords:\n",
    "                keywords.append(word)\n",
    "\n",
    "    result=[]\n",
    "\n",
    "\n",
    "    for i in range(0,len(title)):\n",
    "        title[i] = nospecial(title[i])\n",
    "\n",
    "    while(\"\" in title):\n",
    "        title.remove(\"\")\n",
    "\n",
    "    # print(title)\n",
    "    # print(keywords)\n",
    "\n",
    "    for word in title:\n",
    "        if check_noun(word) :\n",
    "            if word not in result:\n",
    "                result.append(word)\n",
    "\n",
    "    for word in title:\n",
    "        if word in keywords:\n",
    "            if word not in result:\n",
    "                result.append(word)\n",
    "\n",
    "    for word in keywords :\n",
    "        try:\n",
    "            possible = d[stemmer.stem(word)]\n",
    "            possible = [p.lower() for p in possible]\n",
    "            for p in possible:\n",
    "                if p in title:\n",
    "                    if p not in result:\n",
    "                        result.append(p)\n",
    "        except:\n",
    "            pass\n",
    "\n",
    "    result= remove_stopwords(result)\n",
    "    if \"ted\" in result:\n",
    "        result.remove(\"ted\")\n",
    "    if \"talk\" in result:\n",
    "        result.remove(\"talk\")\n",
    "    if \"talks\" in result:\n",
    "        result.remove(\"talks\")\n",
    "    if len(result)>0 and og_title not in titles:\n",
    "        titles.append(og_title)\n",
    "    f = open('test.txt', 'a')\n",
    "    f.write( og_title + \"\\t\" + ' '.join(k.replace(' ', '_') for k in result) + \"\\n\")\n",
    "    f.close()\n",
    "    divs =soup.find_all(\"a\",{\"class\":\"mb-5 block p-3\"})\n",
    "    base_url = \"https://www.ted.com\"\n",
    "    for d in divs:\n",
    "        href = d.get_attribute_list(\"href\")\n",
    "        if base_url+href[0] not in found:\n",
    "            found.append(base_url+href[0])\n",
    "            spider(base_url+href[0],titles,found)\n",
    "\n",
    "\n",
    "spider(start_url,[],[start_url])\n",
    "driver.close() "
   ]
  },
  {
   "cell_type": "code",
   "execution_count": 62,
   "metadata": {},
   "outputs": [
    {
     "data": {
      "text/plain": [
       "<coroutine object HTML.arender at 0x000001E994BCADC0>"
      ]
     },
     "execution_count": 62,
     "metadata": {},
     "output_type": "execute_result"
    }
   ],
   "source": [
    "from requests_html import HTMLSession\n",
    "session = HTMLSession()\n",
    "response = session.get(start_url)\n",
    "response.html.arender()\n",
    "\n"
   ]
  },
  {
   "cell_type": "code",
   "execution_count": 64,
   "metadata": {},
   "outputs": [
    {
     "data": {
      "text/plain": [
       "[<Element 'a' class=('text-base', 'leading-md', 'sr-only', 'focus:not-sr-only', 'font-bold', 'outline-inside', 'flex', 'items-center', 'justify-center', 'bg-white', 'focus:absolute', 'focus:h-full', 'focus:w-full') href='#maincontent'>,\n",
       " <Element 'a' class=('text-base', 'leading-md', 'sr-only', 'focus:not-sr-only', 'font-bold', 'outline-inside', 'flex', 'items-center', 'justify-center', 'bg-white', 'focus:absolute', 'focus:h-full', 'focus:w-full') href='#navigation-search'>,\n",
       " <Element 'a' class=('outline-inside', 'flex', 'items-center', 'py-4') href='/'>,\n",
       " <Element 'a' role='menuitem' tabindex='-1' data-reach-menu-link='' data-selected='' data-valuetext='' data-reach-menu-item='' class=('menuItem', 'px-8', 'py-4', 'first:pt-8', 'last:pb-8', 'block', 'hover:bg-gray-50') href='/talks'>,\n",
       " <Element 'a' role='menuitem' tabindex='-1' data-reach-menu-link='' data-selected='' data-valuetext='' data-reach-menu-item='' class=('menuItem', 'px-8', 'py-4', 'first:pt-8', 'last:pb-8', 'block', 'hover:bg-gray-50') href='/recommends'>,\n",
       " <Element 'a' role='menuitem' tabindex='-1' data-reach-menu-link='' data-selected='' data-valuetext='' data-reach-menu-item='' class=('menuItem', 'px-8', 'py-4', 'first:pt-8', 'last:pb-8', 'block', 'hover:bg-gray-50') href='/playlists'>,\n",
       " <Element 'a' role='menuitem' tabindex='-1' data-reach-menu-link='' data-selected='' data-valuetext='' data-reach-menu-item='' class=('menuItem', 'px-8', 'py-4', 'first:pt-8', 'last:pb-8', 'block', 'hover:bg-gray-50') href='/series'>,\n",
       " <Element 'a' role='menuitem' tabindex='-1' data-reach-menu-link='' data-selected='' data-valuetext='' data-reach-menu-item='' class=('menuItem', 'px-8', 'py-4', 'first:pt-8', 'last:pb-8', 'block', 'hover:bg-gray-50') href='/watch/ted-ed'>,\n",
       " <Element 'a' role='menuitem' tabindex='-1' data-reach-menu-link='' data-selected='' data-valuetext='' data-reach-menu-item='' class=('menuItem', 'px-8', 'py-4', 'first:pt-8', 'last:pb-8', 'block', 'hover:bg-gray-50') href='/watch/tedx-talks'>,\n",
       " <Element 'a' role='menuitem' tabindex='-1' data-reach-menu-link='' data-selected='' data-valuetext='' data-reach-menu-item='' class=('menuItem', 'px-8', 'py-4', 'first:pt-8', 'last:pb-8', 'block', 'hover:bg-gray-50') href='/topics'>,\n",
       " <Element 'a' rel=('noreferrer', 'noopener') href='https://audiocollective.ted.com' role='menuitem' tabindex='-1' data-reach-menu-link='' data-selected='' data-valuetext='' data-reach-menu-item='' class=('menuItem', 'px-8', 'py-4', 'first:pt-8', 'last:pb-8', 'block', 'hover:bg-gray-50')>,\n",
       " <Element 'a' rel=('noreferrer', 'noopener') href='https://ideas.ted.com' role='menuitem' tabindex='-1' data-reach-menu-link='' data-selected='' data-valuetext='' data-reach-menu-item='' class=('menuItem', 'px-8', 'py-4', 'first:pt-8', 'last:pb-8', 'block', 'hover:bg-gray-50')>,\n",
       " <Element 'a' role='menuitem' tabindex='-1' data-reach-menu-link='' data-selected='' data-valuetext='' data-reach-menu-item='' class=('menuItem', 'px-8', 'py-4', 'first:pt-8', 'last:pb-8', 'block', 'hover:bg-gray-50') href='/newsletter'>,\n",
       " <Element 'a' role='menuitem' tabindex='-1' data-reach-menu-link='' data-selected='' data-valuetext='' data-reach-menu-item='' class=('menuItem', 'px-8', 'py-4', 'first:pt-8', 'last:pb-8', 'block', 'hover:bg-gray-50') href='/attend/conferences'>,\n",
       " <Element 'a' role='menuitem' tabindex='-1' data-reach-menu-link='' data-selected='' data-valuetext='' data-reach-menu-item='' class=('menuItem', 'px-8', 'py-4', 'first:pt-8', 'last:pb-8', 'block', 'hover:bg-gray-50') href='/tedx/events'>,\n",
       " <Element 'a' role='menuitem' tabindex='-1' data-reach-menu-link='' data-selected='' data-valuetext='' data-reach-menu-item='' class=('menuItem', 'px-8', 'py-4', 'first:pt-8', 'last:pb-8', 'block', 'hover:bg-gray-50') href='/attend/ted-on-screen'>,\n",
       " <Element 'a' rel=('noreferrer', 'noopener') href='https://courses.ted.com/category/courses' role='menuitem' tabindex='-1' data-reach-menu-link='' data-selected='' data-valuetext='' data-reach-menu-item='' class=('menuItem', 'px-8', 'py-4', 'first:pt-8', 'last:pb-8', 'block', 'hover:bg-gray-50')>,\n",
       " <Element 'a' role='menuitem' tabindex='-1' data-reach-menu-link='' data-selected='' data-valuetext='' data-reach-menu-item='' class=('menuItem', 'px-8', 'py-4', 'first:pt-8', 'last:pb-8', 'block', 'hover:bg-gray-50') href='/participate/nominate'>,\n",
       " <Element 'a' role='menuitem' tabindex='-1' data-reach-menu-link='' data-selected='' data-valuetext='' data-reach-menu-item='' class=('menuItem', 'px-8', 'py-4', 'first:pt-8', 'last:pb-8', 'block', 'hover:bg-gray-50') href='/participate/organize-a-local-tedx-event'>,\n",
       " <Element 'a' role='menuitem' tabindex='-1' data-reach-menu-link='' data-selected='' data-valuetext='' data-reach-menu-item='' class=('menuItem', 'px-8', 'py-4', 'first:pt-8', 'last:pb-8', 'block', 'hover:bg-gray-50') href='/participate/translate'>,\n",
       " <Element 'a' role='menuitem' tabindex='-1' data-reach-menu-link='' data-selected='' data-valuetext='' data-reach-menu-item='' class=('menuItem', 'px-8', 'py-4', 'first:pt-8', 'last:pb-8', 'block', 'hover:bg-gray-50') href='/participate/ted-fellows-program'>,\n",
       " <Element 'a' role='menuitem' tabindex='-1' data-reach-menu-link='' data-selected='' data-valuetext='' data-reach-menu-item='' class=('menuItem', 'px-8', 'py-4', 'first:pt-8', 'last:pb-8', 'block', 'hover:bg-gray-50') href='/about/our-organization'>,\n",
       " <Element 'a' role='menuitem' tabindex='-1' data-reach-menu-link='' data-selected='' data-valuetext='' data-reach-menu-item='' class=('menuItem', 'px-8', 'py-4', 'first:pt-8', 'last:pb-8', 'block', 'hover:bg-gray-50') href='/about/conferences'>,\n",
       " <Element 'a' role='menuitem' tabindex='-1' data-reach-menu-link='' data-selected='' data-valuetext='' data-reach-menu-item='' class=('menuItem', 'px-8', 'py-4', 'first:pt-8', 'last:pb-8', 'block', 'hover:bg-gray-50') href='/about/programs-initiatives'>,\n",
       " <Element 'a' role='menuitem' tabindex='-1' data-reach-menu-link='' data-selected='' data-valuetext='' data-reach-menu-item='' class=('menuItem', 'px-8', 'py-4', 'first:pt-8', 'last:pb-8', 'block', 'hover:bg-gray-50') href='/about/partner-with-ted'>,\n",
       " <Element 'a' role='menuitem' tabindex='-1' data-reach-menu-link='' data-selected='' data-valuetext='' data-reach-menu-item='' class=('menuItem', 'px-8', 'py-4', 'first:pt-8', 'last:pb-8', 'block', 'hover:bg-gray-50') href='https://blog.ted.com/'>,\n",
       " <Element 'a' id='' rel=('noreferrer', 'noopener') href='https://auth.ted.com/users/new' class=('outline-inside', 'flex', 'translate-x-2', 'transform', 'items-center', 'p-2', 'hover:underline', 'lg:transform-none', 'lg:px-3', 'lg:py-5', 'lg:hover:bg-gray-50', 'lg:hover:no-underline')>,\n",
       " <Element 'a' class=('ml-3', 'hidden', 'lg:block', 'rounded-sm') href='/membership'>,\n",
       " <Element 'a' class=('rounded-sm',) href='/membership?utm_medium=display&utm_source=talkpage&utm_campaign=membership-ted&utm_content=06172021-talkpagebanner'>,\n",
       " <Element 'a' class=('text-sm', 'italic', 'text-gray-700', 'underline') href='/about/programs-initiatives/tedx-program'>,\n",
       " <Element 'a' class=('text-sm', 'italic', 'text-gray-700', 'underline') href='/about/programs-initiatives/tedx-program'>,\n",
       " <Element 'a' target='_blank' rel=('noreferrer', 'noopener') class=('flex', 'items-start') href='/speakers/olivia_vinckier_TEDxSaintFrancisHS20220227-47242'>,\n",
       " <Element 'a' target='_blank' href='/speakers/olivia_vinckier_TEDxSaintFrancisHS20220227-47242' class=('flex', 'font-bold', 'max-w-max', 'items-start', 'mt-2', 'text-blue-300', 'md:mt-0', 'hover:text-blue-500')>,\n",
       " <Element 'a' class=('rounded-sm',) href='/about/programs-initiatives/tedx-program'>,\n",
       " <Element 'a' class=('rounded-sm',) href='/membership?utm_medium=display&utm_source=talkpage&utm_campaign=membership-ted&utm_content=06172021-talkpagebanner'>,\n",
       " <Element 'a' class=('inline-block', 'py-1', 'text-tui-sm', 'capitalize', 'underline') href='/topics/race'>,\n",
       " <Element 'a' class=('inline-block', 'py-1', 'text-tui-sm', 'capitalize', 'underline') href='/topics/family'>,\n",
       " <Element 'a' class=('inline-block', 'py-1', 'text-tui-sm', 'capitalize', 'underline') href='/topics/identity'>,\n",
       " <Element 'a' class=('inline-block', 'py-1', 'text-tui-sm', 'capitalize', 'underline') href='/topics/tedx'>,\n",
       " <Element 'a' class=('inline-block', 'py-1', 'text-tui-sm', 'capitalize', 'underline') href='/topics/government'>,\n",
       " <Element 'a' class=('inline-block', 'py-1', 'text-tui-sm', 'capitalize', 'underline') href='/topics/data'>,\n",
       " <Element 'a' class=('text-black', 'hover:underline') href='/about/programs-initiatives/tedx-program'>,\n",
       " <Element 'a' class=('text-black', 'hover:underline') href='/about/programs-initiatives/ted-fellows-program'>,\n",
       " <Element 'a' class=('text-black', 'hover:underline') href='/about/programs-initiatives/ted-ed'>,\n",
       " <Element 'a' class=('text-black', 'hover:underline') href='/about/programs-initiatives/ted-translators'>,\n",
       " <Element 'a' class=('text-black', 'hover:underline') href='/about/programs-initiatives/ted-institute'>,\n",
       " <Element 'a' class=('text-black', 'hover:underline') href='/about/programs-initiatives/the-audacious-project'>,\n",
       " <Element 'a' class=('text-black', 'hover:underline') href='https://tedatwork.ted.com'>,\n",
       " <Element 'a' id='' rel=('noreferrer', 'noopener') href='https://speakersbureau.ted.com' class=('text-black', 'hover:underline')>,\n",
       " <Element 'a' id='' rel=('noreferrer', 'noopener') href='https://courses.ted.com' class=('text-black', 'hover:underline')>,\n",
       " <Element 'a' class=('text-black', 'hover:underline') href='/podcasts'>,\n",
       " <Element 'a' class=('text-black', 'hover:underline') href='/about/programs-initiatives/ted-talks/ways-to-get-ted-talks'>,\n",
       " <Element 'a' id='' rel=('noreferrer', 'noopener') href='https://www.facebook.com/TED' class=('text-black', 'hover:underline')>,\n",
       " <Element 'a' id='' rel=('noreferrer', 'noopener') href='https://twitter.com/tedtalks' class=('text-black', 'hover:underline')>,\n",
       " <Element 'a' id='' rel=('noreferrer', 'noopener') href='https://instagram.com/ted' class=('text-black', 'hover:underline')>,\n",
       " <Element 'a' id='' rel=('noreferrer', 'noopener') href='https://www.youtube.com/ted' class=('text-black', 'hover:underline')>,\n",
       " <Element 'a' id='' rel=('noreferrer', 'noopener') href='https://www.linkedin.com/company/ted-conferences/' class=('text-black', 'hover:underline')>,\n",
       " <Element 'a' class=('text-black', 'hover:underline') href='https://blog.ted.com'>,\n",
       " <Element 'a' class=('text-black', 'hover:underline') href='/people/speakers'>,\n",
       " <Element 'a' class=('text-black', 'hover:underline') href='/people/fellows'>,\n",
       " <Element 'a' class=('text-black', 'hover:underline') href='/people/translators'>,\n",
       " <Element 'a' class=('text-black', 'hover:underline') href='/people/tedx'>,\n",
       " <Element 'a' class=('text-black', 'hover:underline') href='/people'>,\n",
       " <Element 'a' class=('text-black', 'hover:underline') href='/about/our-organization/our-policies-terms/ted-talks-usage-policy'>,\n",
       " <Element 'a' class=('text-black', 'hover:underline') href='/about/our-organization/our-policies-terms/privacy-policy'>,\n",
       " <Element 'a' class=('text-black', 'hover:underline') href='/about/partner-with-ted'>,\n",
       " <Element 'a' class=('text-black', 'hover:underline') href='/about/our-organization/our-policies-terms/ted-com-terms-of-use'>,\n",
       " <Element 'a' class=('text-black', 'hover:underline') href='/about/our-organization/jobs-at-ted'>,\n",
       " <Element 'a' class=('text-black', 'hover:underline') href='/about/our-organization/contact-us/press-and-media-information'>,\n",
       " <Element 'a' id='' rel=('noreferrer', 'noopener') href='https://support.ted.com' class=('text-black', 'hover:underline')>]"
      ]
     },
     "execution_count": 64,
     "metadata": {},
     "output_type": "execute_result"
    }
   ],
   "source": [
    "response.html.find(\"a\")"
   ]
  },
  {
   "cell_type": "code",
   "execution_count": null,
   "metadata": {},
   "outputs": [],
   "source": []
  }
 ],
 "metadata": {
  "kernelspec": {
   "display_name": "Python 3.9.1 64-bit",
   "language": "python",
   "name": "python3"
  },
  "language_info": {
   "codemirror_mode": {
    "name": "ipython",
    "version": 3
   },
   "file_extension": ".py",
   "mimetype": "text/x-python",
   "name": "python",
   "nbconvert_exporter": "python",
   "pygments_lexer": "ipython3",
   "version": "3.9.1"
  },
  "orig_nbformat": 4,
  "vscode": {
   "interpreter": {
    "hash": "daca86dfe90386ebecafa86302dd102978461e1263ffd5af8c9f541b523ba9f9"
   }
  }
 },
 "nbformat": 4,
 "nbformat_minor": 2
}
