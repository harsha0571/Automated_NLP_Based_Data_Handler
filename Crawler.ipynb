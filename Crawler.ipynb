{
 "cells": [
  {
   "cell_type": "code",
   "execution_count": 1,
   "metadata": {},
   "outputs": [
    {
     "name": "stderr",
     "output_type": "stream",
     "text": [
      "[nltk_data] Downloading package brown to\n",
      "[nltk_data]     C:\\Users\\Harsha\\AppData\\Roaming\\nltk_data...\n",
      "[nltk_data]   Package brown is already up-to-date!\n"
     ]
    }
   ],
   "source": [
    "from urllib.request import urlopen\n",
    "from bs4 import BeautifulSoup\n",
    "import ssl\n",
    "import spacy\n",
    "import nltk\n",
    "import requests\n",
    "import certifi\n",
    "from nltk.corpus import brown\n",
    "nltk.download('brown')\n",
    "\n",
    "nlp = spacy.load(\"en_core_web_sm\")\n",
    "sw_spacy = nlp.Defaults.stop_words\n",
    "\n",
    "from nltk.stem.porter import *\n",
    "from collections import defaultdict"
   ]
  },
  {
   "cell_type": "code",
   "execution_count": 2,
   "metadata": {},
   "outputs": [],
   "source": [
    "vocab = set(brown.words())\n",
    "\n",
    "stemmer = PorterStemmer()\n",
    "d = defaultdict(set)\n",
    "for v in vocab:\n",
    "    d[stemmer.stem(v)].add(v)  "
   ]
  },
  {
   "cell_type": "code",
   "execution_count": 4,
   "metadata": {},
   "outputs": [
    {
     "name": "stdout",
     "output_type": "stream",
     "text": [
      "letting\n",
      "Letting\n",
      "Let\n",
      "lets\n",
      "let\n"
     ]
    }
   ],
   "source": [
    "possible = d[stemmer.stem('letting')]\n",
    "for p in possible:\n",
    "    print(p)"
   ]
  },
  {
   "cell_type": "code",
   "execution_count": 3,
   "metadata": {},
   "outputs": [
    {
     "data": {
      "text/plain": [
       "True"
      ]
     },
     "execution_count": 3,
     "metadata": {},
     "output_type": "execute_result"
    }
   ],
   "source": [
    "def check_noun(word):\n",
    "    doc = nlp(word)\n",
    "\n",
    "    if(doc[0].tag_ == 'NNP'):\n",
    "        return True\n",
    "    else:\n",
    "        return False\n",
    "\n",
    "check_noun(\"chakri\")"
   ]
  },
  {
   "cell_type": "code",
   "execution_count": 6,
   "metadata": {},
   "outputs": [
    {
     "name": "stdout",
     "output_type": "stream",
     "text": [
      "works\n"
     ]
    }
   ],
   "source": [
    "test = ['free', 'will', 'changing', 'destiny', 'choosing', 'love', 'choice', 'soul', 'conditioning', 'acceptance']\n",
    "\n",
    "if 'soul' in test:\n",
    "    print('works')"
   ]
  },
  {
   "cell_type": "code",
   "execution_count": 4,
   "metadata": {},
   "outputs": [],
   "source": [
    "def remove_stopwords(text):\n",
    "\n",
    "    # words = [word for word in text.split() if word.lower() not in sw_spacy]\n",
    "    # new_text = \" \".join(words)\n",
    "    # print(new_text)\n",
    "    # print(\"Old length: \", len(text))\n",
    "    # print(\"New length: \", len(new_text))\n",
    "\n",
    "    res = []\n",
    "    for word in text:\n",
    "        if word not in sw_spacy:\n",
    "            res.append(word)\n",
    "    return res\n"
   ]
  },
  {
   "cell_type": "code",
   "execution_count": 9,
   "metadata": {},
   "outputs": [
    {
     "name": "stdout",
     "output_type": "stream",
     "text": [
      "['live', 'in', 'the', 'present', 'to', 'create', 'the', 'life', 'you', 'desire']\n",
      "['the', 'present', 'living', 'in', 'now', 'gift', 'of', 'moment', 'unknown', 'future', 'painful', 'past']\n",
      "['present', 'live']\n"
     ]
    }
   ],
   "source": [
    "\n",
    "\n",
    "page = urlopen(\n",
    "    \"https://ezinearticles.com/?Live-In-the-Present-to-Create-the-Life-You-Desire&id=6504152\",\n",
    "    context=ssl.create_default_context(cafile=certifi.where()))\n",
    "\n",
    "\n",
    "soup = BeautifulSoup(page, 'html.parser')\n",
    "title = soup.title.string.lower().split()\n",
    "key = soup.select(\"meta[name='keywords']\")[0]['content'].lower().split(\",\")\n",
    "\n",
    "print(title)\n",
    "keywords = [] \n",
    "for k in key:\n",
    "    \n",
    "    for word in k.split():\n",
    "        if word not in keywords:\n",
    "            keywords.append(word)\n",
    "\n",
    "result=[]\n",
    "\n",
    "print(keywords)\n",
    "\n",
    "for word in title:\n",
    "    if check_noun(word):\n",
    "        if word not in result:\n",
    "            result.append(word)\n",
    "\n",
    "for word in keywords:\n",
    "    possible = d[stemmer.stem(word)]\n",
    "    for p in possible:\n",
    "        if p in title:\n",
    "            if p not in result:\n",
    "                result.append(p)\n",
    "        \n",
    "result= remove_stopwords(result)\n",
    "print(result)"
   ]
  },
  {
   "cell_type": "code",
   "execution_count": 12,
   "metadata": {},
   "outputs": [
    {
     "data": {
      "text/plain": [
       "<Response [403]>"
      ]
     },
     "execution_count": 12,
     "metadata": {},
     "output_type": "execute_result"
    }
   ],
   "source": [
    "url=\"https://ezinearticles.com/?Live-In-the-Present-to-Create-the-Life-You-Desire&id=6504152\"\n",
    "requests.get(url,verify=True)"
   ]
  },
  {
   "cell_type": "code",
   "execution_count": 35,
   "metadata": {},
   "outputs": [
    {
     "name": "stdout",
     "output_type": "stream",
     "text": [
      "[]\n"
     ]
    }
   ],
   "source": [
    "page = urlopen(\n",
    "    \"https://ezinearticles.com/?Live-In-the-Present-to-Create-the-Life-You-Desire&id=6504152\",\n",
    "    context=ssl.create_default_context(cafile=certifi.where()))\n",
    "\n",
    "\n",
    "soup = BeautifulSoup(page, 'html.parser')\n",
    "name = 'ezinearticles'\n",
    "found = []\n",
    "for a in soup.select('a[href]'):\n",
    "    b = a['href']\n",
    "    if 'https://' + name + '.com' in b and b not in found:\n",
    "        found.append(b)\n",
    "        break\n",
    "\n",
    "print(found)\n",
    "\n",
    "\n"
   ]
  },
  {
   "cell_type": "code",
   "execution_count": 5,
   "metadata": {},
   "outputs": [],
   "source": [
    "def full_url(partial_url):\n",
    "    return \"https://ezinearticles.com\"+partial_url"
   ]
  },
  {
   "cell_type": "code",
   "execution_count": 64,
   "metadata": {},
   "outputs": [
    {
     "name": "stdout",
     "output_type": "stream",
     "text": [
      "https://ezinearticles.com/?The-Arsenal-Team-of-the-Decade-(1997-2007)&id=606410\n",
      "https://ezinearticles.com/?THE-MOST-HIGH-GOD-~-Fire-Baptisms-and-the-Anointed-Ones-(The-Cannabis-Revelation)&id=10467079\n",
      "https://ezinearticles.com/?Nirut-and-the-She-Ocean-(and-How-the-Nirut-Series-was-Written)&id=644444\n",
      "https://ezinearticles.com/?The-Value-of-the-Gift-of-Life&id=6507101\n",
      "https://ezinearticles.com/?Living-in-the-Present-Moment&id=1251181\n",
      "https://ezinearticles.com/?Tazaungmon-And-The-Tazaungdaing-Light-Festival&id=9075281\n",
      "https://ezinearticles.com/?The-Difference-Between-Being-Smart,-Educated,-and-Intelligent&id=2181806\n",
      "https://ezinearticles.com/?Finding-Your-Next-Step-in-the-Midst-of-Fear,-Pain,-Or-Chaos&id=1640380\n",
      "https://ezinearticles.com/?The-Aphrodite-Project---A-Discovery-of-Life-in-Cancer-Survivors&id=3478385\n",
      "https://ezinearticles.com/?The-Essentials-of-a-Good-Life&id=1874482\n"
     ]
    }
   ],
   "source": [
    "mydivs = soup.find_all(\"ul\", {\"class\": \"ea-similar-articles ea-article-list\"})[0]\n",
    "type(mydivs)\n",
    "#mydivs\n",
    "test1 = mydivs.findChildren('a')\n",
    "for i in range(0,len(test1)):\n",
    "    tag = test[i]\n",
    "    print(full_url(tag.get_attribute_list('href')[0]))\n"
   ]
  },
  {
   "cell_type": "code",
   "execution_count": 62,
   "metadata": {},
   "outputs": [
    {
     "data": {
      "text/plain": [
       "str"
      ]
     },
     "execution_count": 62,
     "metadata": {},
     "output_type": "execute_result"
    }
   ],
   "source": [
    "type(test[0].get_attribute_list('href')[0])"
   ]
  },
  {
   "cell_type": "code",
   "execution_count": 47,
   "metadata": {},
   "outputs": [],
   "source": [
    "\n",
    "def spider(found_titles, url, found):\n",
    "    try:\n",
    "        page = urlopen(url,context=ssl.create_default_context(cafile=certifi.where()))\n",
    "        soup = BeautifulSoup(page, 'html.parser')\n",
    "\n",
    "        og_title = soup.title.string.lower()\n",
    "        title = soup.title.string.lower().split()\n",
    "        key = soup.select(\"meta[name='keywords']\")[0]['content'].lower().split(\",\")\n",
    "        keywords = [] \n",
    "        for k in key:\n",
    "            for word in k.split():\n",
    "                if word not in keywords:\n",
    "                    keywords.append(word)\n",
    "\n",
    "        result=[]\n",
    "\n",
    "        print(keywords)\n",
    "\n",
    "        for word in title:\n",
    "            if check_noun(word):\n",
    "                if word not in result:\n",
    "                    result.append(word)\n",
    "\n",
    "        for word in keywords:\n",
    "            possible = d[stemmer.stem(word)]\n",
    "            for p in possible:\n",
    "                if p in title:\n",
    "                    if p not in result:\n",
    "                        result.append(p)\n",
    "        result= remove_stopwords(result)\n",
    "        \n",
    "        if len(result) > 0 and og_title not in found_titles:\n",
    "            found_titles.append(og_title)\n",
    "            print(og_title)\n",
    "            print(result)\n",
    "\n",
    "            f = open('test.txt', 'a')\n",
    "            f.write(\n",
    "                og_title + \"\\t\" + ' '.join(\n",
    "                    k.replace(' ', '_') for k in result\n",
    "                ) + \"\\n\"\n",
    "            )\n",
    "            f.close()\n",
    "        \n",
    "        mydivs = soup.find_all(\"ul\", {\"class\": \"ea-similar-articles ea-article-list\"})[0]\n",
    "        #print(mydivs)\n",
    "        \n",
    "        if mydivs:\n",
    "            test1 = mydivs.findChildren('a')\n",
    "            print(\"here: \",test1)\n",
    "            if test1:\n",
    "                for i in range(0,len(test1)):\n",
    "                    tag = test1[i]\n",
    "                    \n",
    "                    url_here = full_url(tag.get_attribute_list('href')[0])\n",
    "                    print(\"url here: \",url_here)\n",
    "                    if url_here not in found:\n",
    "                        found.append(url_here)\n",
    "                        spider(found_titles,url_here,found)\n",
    "        \n",
    "    except:\n",
    "        pass"
   ]
  },
  {
   "cell_type": "code",
   "execution_count": 50,
   "metadata": {},
   "outputs": [
    {
     "name": "stdout",
     "output_type": "stream",
     "text": [
      "['silicon', 'carbide', 'nozzle', 'ceramics', 'ceramic']\n",
      "uses of silicon carbide ceramics in different industries\n",
      "['carbide', 'silicon', 'ceramics']\n",
      "here:  [<a href=\"/?All-About-Silicon-Carbide-Ceramic&amp;id=9875605\">\n",
      "<span>All About Silicon Carbide Ceramic</span>\n",
      "</a>, <a href=\"/?Low-Cost-Synthesis-of-Silicon-Carbide-and-Silicon-Nitride&amp;id=7087791\">\n",
      "<span>Low Cost Synthesis of Silicon Carbide and Silicon Nitride</span>\n",
      "</a>, <a href=\"/?Reaction-Bonded-Silicon-Carbide:-Advantages,-Application-and-Products&amp;id=10543934\">\n",
      "<span>Reaction Bonded Silicon Carbide: Advantages, Application and Products</span>\n",
      "</a>, <a href=\"/?Everything-About-Sintered-Silicon-Carbide&amp;id=9666615\">\n",
      "<span>Everything About Sintered Silicon Carbide</span>\n",
      "</a>, <a href=\"/?Know-the-Several-Applications-of-Silicon-Carbide&amp;id=9786591\">\n",
      "<span>Know the Several Applications of Silicon Carbide</span>\n",
      "</a>, <a href=\"/?Ceramic-Tile-Types---Your-Complete-Electrical-Solution&amp;id=9068929\">\n",
      "<span>Ceramic Tile Types - Your Complete Electrical Solution</span>\n",
      "</a>, <a href=\"/?Properties-and-Uses-of-Boron-Carbide-Powder&amp;id=9772158\">\n",
      "<span>Properties and Uses of Boron Carbide Powder</span>\n",
      "</a>, <a href=\"/?An-Overview-of-SiC-Material&amp;id=10550031\">\n",
      "<span>An Overview of SiC Material</span>\n",
      "</a>]\n",
      "url here:  https://ezinearticles.com/?All-About-Silicon-Carbide-Ceramic&id=9875605\n",
      "['silicon', 'carbide', 'ceramic', 'ceramics']\n",
      "all about silicon carbide ceramic\n",
      "['carbide', 'silicon', 'ceramic']\n",
      "here:  [<a href=\"/?Uses-of-Silicon-Carbide-Ceramics-in-Different-Industries&amp;id=10550034\">\n",
      "<span>Uses of Silicon Carbide Ceramics in Different Industries</span>\n",
      "</a>, <a href=\"/?Know-About-All-the-Properties-of-Silicon-Carbide-Ceramic&amp;id=9649701\">\n",
      "<span>Know About All the Properties of Silicon Carbide Ceramic</span>\n",
      "</a>, <a href=\"/?Low-Cost-Synthesis-of-Silicon-Carbide-and-Silicon-Nitride&amp;id=7087791\">\n",
      "<span>Low Cost Synthesis of Silicon Carbide and Silicon Nitride</span>\n",
      "</a>, <a href=\"/?Reaction-Bonded-Silicon-Carbide:-Advantages,-Application-and-Products&amp;id=10543934\">\n",
      "<span>Reaction Bonded Silicon Carbide: Advantages, Application and Products</span>\n",
      "</a>, <a href=\"/?Silicon-Carbide---Achesons-Blessing-in-Disguise&amp;id=9114254\">\n",
      "<span>Silicon Carbide - Acheson's Blessing in Disguise</span>\n",
      "</a>, <a href=\"/?Silicon-Carbide---All-About-This-Serendipitous-Discovery&amp;id=9875224\">\n",
      "<span>Silicon Carbide - All About This Serendipitous Discovery</span>\n",
      "</a>, <a href=\"/?Everything-About-Sintered-Silicon-Carbide&amp;id=9666615\">\n",
      "<span>Everything About Sintered Silicon Carbide</span>\n",
      "</a>, <a href=\"/?Some-Useful-Facts-of-Silicon-Carbide&amp;id=9616116\">\n",
      "<span>Some Useful Facts of Silicon Carbide</span>\n",
      "</a>, <a href=\"/?Know-the-Uses-of-Reaction-Bonded-Silicon-Carbide&amp;id=9911315\">\n",
      "<span>Know the Uses of Reaction Bonded Silicon Carbide</span>\n",
      "</a>, <a href=\"/?Know-the-Benefits-of-Using-Silicon-Carbide&amp;id=9590883\">\n",
      "<span>Know the Benefits of Using Silicon Carbide</span>\n",
      "</a>]\n",
      "url here:  https://ezinearticles.com/?Uses-of-Silicon-Carbide-Ceramics-in-Different-Industries&id=10550034\n",
      "url here:  https://ezinearticles.com/?Know-About-All-the-Properties-of-Silicon-Carbide-Ceramic&id=9649701\n",
      "['silicon', 'carbide', 'ceramic', 'ceramics']\n",
      "know about all the properties of silicon carbide ceramic\n",
      "['carbide', 'silicon', 'ceramic']\n",
      "here:  [<a href=\"/?All-About-Silicon-Carbide-Ceramic&amp;id=9875605\">\n",
      "<span>All About Silicon Carbide Ceramic</span>\n",
      "</a>, <a href=\"/?Uses-of-Silicon-Carbide-Ceramics-in-Different-Industries&amp;id=10550034\">\n",
      "<span>Uses of Silicon Carbide Ceramics in Different Industries</span>\n",
      "</a>, <a href=\"/?Low-Cost-Synthesis-of-Silicon-Carbide-and-Silicon-Nitride&amp;id=7087791\">\n",
      "<span>Low Cost Synthesis of Silicon Carbide and Silicon Nitride</span>\n",
      "</a>, <a href=\"/?Reaction-Bonded-Silicon-Carbide:-Advantages,-Application-and-Products&amp;id=10543934\">\n",
      "<span>Reaction Bonded Silicon Carbide: Advantages, Application and Products</span>\n",
      "</a>, <a href=\"/?Silicon-Carbide---Achesons-Blessing-in-Disguise&amp;id=9114254\">\n",
      "<span>Silicon Carbide - Acheson's Blessing in Disguise</span>\n",
      "</a>, <a href=\"/?Silicon-Carbide---All-About-This-Serendipitous-Discovery&amp;id=9875224\">\n",
      "<span>Silicon Carbide - All About This Serendipitous Discovery</span>\n",
      "</a>, <a href=\"/?Some-Useful-Facts-of-Silicon-Carbide&amp;id=9616116\">\n",
      "<span>Some Useful Facts of Silicon Carbide</span>\n",
      "</a>, <a href=\"/?Everything-About-Sintered-Silicon-Carbide&amp;id=9666615\">\n",
      "<span>Everything About Sintered Silicon Carbide</span>\n",
      "</a>, <a href=\"/?Wear-Resistant-Ceramic---The-Ceramic-With-A-Difference!&amp;id=7653256\">\n",
      "<span>Wear Resistant Ceramic - The Ceramic With A Difference!</span>\n",
      "</a>, <a href=\"/?Silicon-Carbide-Brushes-for-Edge-Prep---Versatile-Honing-Brushes-for-Many-Jobs&amp;id=7022649\">\n",
      "<span>Silicon Carbide Brushes for Edge Prep - Versatile Honing Brushes for Many Jobs</span>\n",
      "</a>]\n",
      "url here:  https://ezinearticles.com/?All-About-Silicon-Carbide-Ceramic&id=9875605\n",
      "url here:  https://ezinearticles.com/?Uses-of-Silicon-Carbide-Ceramics-in-Different-Industries&id=10550034\n",
      "url here:  https://ezinearticles.com/?Low-Cost-Synthesis-of-Silicon-Carbide-and-Silicon-Nitride&id=7087791\n",
      "['silicon', 'carbide', 'nitride', 'si3n4-bonded', 'ceramic', 'materials']\n",
      "low cost synthesis of silicon carbide and silicon nitride\n",
      "['carbide', 'silicon']\n",
      "url here:  https://ezinearticles.com/?Reaction-Bonded-Silicon-Carbide:-Advantages,-Application-and-Products&id=10543934\n",
      "['reaction', 'bonded', 'silicon', 'carbide']\n",
      "reaction bonded silicon carbide: advantages, application and products\n",
      "['carbide:', 'reaction', 'bonded', 'silicon']\n",
      "here:  [<a href=\"/?Know-the-Uses-of-Reaction-Bonded-Silicon-Carbide&amp;id=9911315\">\n",
      "<span>Know the Uses of Reaction Bonded Silicon Carbide</span>\n",
      "</a>, <a href=\"/?Low-Cost-Synthesis-of-Silicon-Carbide-and-Silicon-Nitride&amp;id=7087791\">\n",
      "<span>Low Cost Synthesis of Silicon Carbide and Silicon Nitride</span>\n",
      "</a>, <a href=\"/?Some-Useful-Facts-of-Silicon-Carbide&amp;id=9616116\">\n",
      "<span>Some Useful Facts of Silicon Carbide</span>\n",
      "</a>, <a href=\"/?All-About-Silicon-Carbide-Ceramic&amp;id=9875605\">\n",
      "<span>All About Silicon Carbide Ceramic</span>\n",
      "</a>, <a href=\"/?Know-the-Benefits-of-Using-Silicon-Carbide&amp;id=9590883\">\n",
      "<span>Know the Benefits of Using Silicon Carbide</span>\n",
      "</a>, <a href=\"/?Know-The-Useful-Benefits-Of-Using-Silicon-Carbide&amp;id=9664080\">\n",
      "<span>Know The Useful Benefits Of Using Silicon Carbide</span>\n",
      "</a>, <a href=\"/?Some-Important-Features-of-Silicon-Carbide&amp;id=9787995\">\n",
      "<span>Some Important Features of Silicon Carbide</span>\n",
      "</a>, <a href=\"/?Know-the-Several-Applications-of-Silicon-Carbide&amp;id=9786591\">\n",
      "<span>Know the Several Applications of Silicon Carbide</span>\n",
      "</a>, <a href=\"/?Silicone-RTV-Rubber-Moulds-And-Mould-Making-Compounds&amp;id=7656986\">\n",
      "<span>Silicone RTV Rubber Moulds And Mould Making Compounds</span>\n",
      "</a>, <a href=\"/?An-Overview-of-SiC-Material&amp;id=10550031\">\n",
      "<span>An Overview of SiC Material</span>\n",
      "</a>]\n",
      "url here:  https://ezinearticles.com/?Know-the-Uses-of-Reaction-Bonded-Silicon-Carbide&id=9911315\n",
      "['silicon', 'carbide', 'bonded', 'resists', 'interesting', 'facts']\n",
      "know the uses of reaction bonded silicon carbide\n",
      "['carbide', 'silicon', 'bonded']\n",
      "here:  [<a href=\"/?Some-Useful-Facts-of-Silicon-Carbide&amp;id=9616116\">\n",
      "<span>Some Useful Facts of Silicon Carbide</span>\n",
      "</a>]\n",
      "url here:  https://ezinearticles.com/?Some-Useful-Facts-of-Silicon-Carbide&id=9616116\n",
      "['silicon', 'carbide', 'bonded', 'compound']\n",
      "some useful facts of silicon carbide\n",
      "['carbide', 'silicon']\n",
      "here:  [<a href=\"/?Some-Important-Features-of-Silicon-Carbide&amp;id=9787995\">\n",
      "<span>Some Important Features of Silicon Carbide</span>\n",
      "</a>, <a href=\"/?Know-the-Benefits-of-Using-Silicon-Carbide&amp;id=9590883\">\n",
      "<span>Know the Benefits of Using Silicon Carbide</span>\n",
      "</a>, <a href=\"/?Know-The-Useful-Benefits-Of-Using-Silicon-Carbide&amp;id=9664080\">\n",
      "<span>Know The Useful Benefits Of Using Silicon Carbide</span>\n",
      "</a>, <a href=\"/?Know-the-Several-Applications-of-Silicon-Carbide&amp;id=9786591\">\n",
      "<span>Know the Several Applications of Silicon Carbide</span>\n",
      "</a>, <a href=\"/?All-About-Silicon-Carbide-Ceramic&amp;id=9875605\">\n",
      "<span>All About Silicon Carbide Ceramic</span>\n",
      "</a>, <a href=\"/?Know-the-Uses-of-Reaction-Bonded-Silicon-Carbide&amp;id=9911315\">\n",
      "<span>Know the Uses of Reaction Bonded Silicon Carbide</span>\n",
      "</a>, <a href=\"/?Silicone-RTV-Rubber-Moulds-And-Mould-Making-Compounds&amp;id=7656986\">\n",
      "<span>Silicone RTV Rubber Moulds And Mould Making Compounds</span>\n",
      "</a>, <a href=\"/?An-Overview-of-SiC-Material&amp;id=10550031\">\n",
      "<span>An Overview of SiC Material</span>\n",
      "</a>, <a href=\"/?Wear-Resistant-Ceramic---The-Ceramic-With-A-Difference!&amp;id=7653256\">\n",
      "<span>Wear Resistant Ceramic - The Ceramic With A Difference!</span>\n",
      "</a>, <a href=\"/?The-Myth-of-Warped-Brake-Discs&amp;id=7359191\">\n",
      "<span>The Myth of Warped Brake Discs</span>\n",
      "</a>]\n",
      "url here:  https://ezinearticles.com/?Some-Important-Features-of-Silicon-Carbide&id=9787995\n",
      "url here:  https://ezinearticles.com/?Know-the-Benefits-of-Using-Silicon-Carbide&id=9590883\n",
      "url here:  https://ezinearticles.com/?Know-The-Useful-Benefits-Of-Using-Silicon-Carbide&id=9664080\n",
      "url here:  https://ezinearticles.com/?Know-the-Several-Applications-of-Silicon-Carbide&id=9786591\n",
      "url here:  https://ezinearticles.com/?All-About-Silicon-Carbide-Ceramic&id=9875605\n",
      "url here:  https://ezinearticles.com/?Know-the-Uses-of-Reaction-Bonded-Silicon-Carbide&id=9911315\n",
      "url here:  https://ezinearticles.com/?Silicone-RTV-Rubber-Moulds-And-Mould-Making-Compounds&id=7656986\n",
      "url here:  https://ezinearticles.com/?An-Overview-of-SiC-Material&id=10550031\n",
      "url here:  https://ezinearticles.com/?Wear-Resistant-Ceramic---The-Ceramic-With-A-Difference!&id=7653256\n",
      "url here:  https://ezinearticles.com/?The-Myth-of-Warped-Brake-Discs&id=7359191\n",
      "url here:  https://ezinearticles.com/?Low-Cost-Synthesis-of-Silicon-Carbide-and-Silicon-Nitride&id=7087791\n",
      "url here:  https://ezinearticles.com/?Some-Useful-Facts-of-Silicon-Carbide&id=9616116\n",
      "url here:  https://ezinearticles.com/?All-About-Silicon-Carbide-Ceramic&id=9875605\n",
      "url here:  https://ezinearticles.com/?Know-the-Benefits-of-Using-Silicon-Carbide&id=9590883\n",
      "url here:  https://ezinearticles.com/?Know-The-Useful-Benefits-Of-Using-Silicon-Carbide&id=9664080\n",
      "url here:  https://ezinearticles.com/?Some-Important-Features-of-Silicon-Carbide&id=9787995\n",
      "url here:  https://ezinearticles.com/?Know-the-Several-Applications-of-Silicon-Carbide&id=9786591\n",
      "url here:  https://ezinearticles.com/?Silicone-RTV-Rubber-Moulds-And-Mould-Making-Compounds&id=7656986\n",
      "url here:  https://ezinearticles.com/?An-Overview-of-SiC-Material&id=10550031\n",
      "url here:  https://ezinearticles.com/?Silicon-Carbide---Achesons-Blessing-in-Disguise&id=9114254\n",
      "url here:  https://ezinearticles.com/?Silicon-Carbide---All-About-This-Serendipitous-Discovery&id=9875224\n",
      "url here:  https://ezinearticles.com/?Some-Useful-Facts-of-Silicon-Carbide&id=9616116\n",
      "url here:  https://ezinearticles.com/?Everything-About-Sintered-Silicon-Carbide&id=9666615\n",
      "url here:  https://ezinearticles.com/?Wear-Resistant-Ceramic---The-Ceramic-With-A-Difference!&id=7653256\n",
      "url here:  https://ezinearticles.com/?Silicon-Carbide-Brushes-for-Edge-Prep---Versatile-Honing-Brushes-for-Many-Jobs&id=7022649\n",
      "url here:  https://ezinearticles.com/?Low-Cost-Synthesis-of-Silicon-Carbide-and-Silicon-Nitride&id=7087791\n",
      "url here:  https://ezinearticles.com/?Reaction-Bonded-Silicon-Carbide:-Advantages,-Application-and-Products&id=10543934\n",
      "url here:  https://ezinearticles.com/?Silicon-Carbide---Achesons-Blessing-in-Disguise&id=9114254\n",
      "url here:  https://ezinearticles.com/?Silicon-Carbide---All-About-This-Serendipitous-Discovery&id=9875224\n",
      "url here:  https://ezinearticles.com/?Everything-About-Sintered-Silicon-Carbide&id=9666615\n",
      "url here:  https://ezinearticles.com/?Some-Useful-Facts-of-Silicon-Carbide&id=9616116\n",
      "url here:  https://ezinearticles.com/?Know-the-Uses-of-Reaction-Bonded-Silicon-Carbide&id=9911315\n",
      "url here:  https://ezinearticles.com/?Know-the-Benefits-of-Using-Silicon-Carbide&id=9590883\n",
      "url here:  https://ezinearticles.com/?Low-Cost-Synthesis-of-Silicon-Carbide-and-Silicon-Nitride&id=7087791\n",
      "url here:  https://ezinearticles.com/?Reaction-Bonded-Silicon-Carbide:-Advantages,-Application-and-Products&id=10543934\n",
      "url here:  https://ezinearticles.com/?Everything-About-Sintered-Silicon-Carbide&id=9666615\n",
      "url here:  https://ezinearticles.com/?Know-the-Several-Applications-of-Silicon-Carbide&id=9786591\n",
      "url here:  https://ezinearticles.com/?Ceramic-Tile-Types---Your-Complete-Electrical-Solution&id=9068929\n",
      "url here:  https://ezinearticles.com/?Properties-and-Uses-of-Boron-Carbide-Powder&id=9772158\n",
      "url here:  https://ezinearticles.com/?An-Overview-of-SiC-Material&id=10550031\n"
     ]
    }
   ],
   "source": [
    "start_url = [\n",
    "    \"https://ezinearticles.com/?Uses-of-Silicon-Carbide-Ceramics-in-Different-Industries&id=10550034\",\n",
    "    \"https://ezinearticles.com/?Some-Dangers-From-Pandemic-Fatigue&id=10554149\",\n",
    "    \"https://ezinearticles.com/?What-Might-Be-Next-In-The-Economy?&id=10554161\",\n",
    "    \"https://ezinearticles.com/?Appointments---Manage-Your-Time-Better-At-Home-to-Be-Effective&id=10553717\",\n",
    "    \"https://ezinearticles.com/?Appointments---The-Importance-of-Making-Appointments-for-Entrepreneurs&id=1055409\"\n",
    "    ]\n",
    "\n",
    "found = [start_url[0]]\n",
    "found_titles = []\n",
    "for starter in start_url:\n",
    "    spider(found_titles,starter,found)"
   ]
  },
  {
   "cell_type": "code",
   "execution_count": null,
   "metadata": {},
   "outputs": [],
   "source": []
  }
 ],
 "metadata": {
  "kernelspec": {
   "display_name": "Python 3.9.1 64-bit",
   "language": "python",
   "name": "python3"
  },
  "language_info": {
   "codemirror_mode": {
    "name": "ipython",
    "version": 3
   },
   "file_extension": ".py",
   "mimetype": "text/x-python",
   "name": "python",
   "nbconvert_exporter": "python",
   "pygments_lexer": "ipython3",
   "version": "3.9.1"
  },
  "orig_nbformat": 4,
  "vscode": {
   "interpreter": {
    "hash": "daca86dfe90386ebecafa86302dd102978461e1263ffd5af8c9f541b523ba9f9"
   }
  }
 },
 "nbformat": 4,
 "nbformat_minor": 2
}
