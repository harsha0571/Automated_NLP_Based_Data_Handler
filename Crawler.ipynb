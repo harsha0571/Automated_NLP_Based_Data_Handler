{
 "cells": [
  {
   "cell_type": "code",
   "execution_count": 2,
   "metadata": {},
   "outputs": [
    {
     "name": "stderr",
     "output_type": "stream",
     "text": [
      "[nltk_data] Downloading package brown to\n",
      "[nltk_data]     C:\\Users\\Harsha\\AppData\\Roaming\\nltk_data...\n",
      "[nltk_data]   Package brown is already up-to-date!\n"
     ]
    }
   ],
   "source": [
    "from urllib.request import urlopen\n",
    "from bs4 import BeautifulSoup\n",
    "import ssl\n",
    "import spacy\n",
    "import nltk\n",
    "import requests\n",
    "import certifi\n",
    "from nltk.corpus import brown\n",
    "nltk.download('brown')\n",
    "\n",
    "nlp = spacy.load(\"en_core_web_sm\")\n",
    "sw_spacy = nlp.Defaults.stop_words\n",
    "\n",
    "from nltk.stem.porter import *\n",
    "from collections import defaultdict"
   ]
  },
  {
   "cell_type": "code",
   "execution_count": 3,
   "metadata": {},
   "outputs": [],
   "source": [
    "vocab = set(brown.words())\n",
    "\n",
    "stemmer = PorterStemmer()\n",
    "d = defaultdict(set)\n",
    "for v in vocab:\n",
    "    d[stemmer.stem(v)].add(v)  "
   ]
  },
  {
   "cell_type": "code",
   "execution_count": 4,
   "metadata": {},
   "outputs": [
    {
     "name": "stdout",
     "output_type": "stream",
     "text": [
      "letting\n",
      "Letting\n",
      "Let\n",
      "lets\n",
      "let\n"
     ]
    }
   ],
   "source": [
    "possible = d[stemmer.stem('letting')]\n",
    "for p in possible:\n",
    "    print(p)"
   ]
  },
  {
   "cell_type": "code",
   "execution_count": 5,
   "metadata": {},
   "outputs": [
    {
     "data": {
      "text/plain": [
       "True"
      ]
     },
     "execution_count": 5,
     "metadata": {},
     "output_type": "execute_result"
    }
   ],
   "source": [
    "def check_noun(word):\n",
    "    doc = nlp(word)\n",
    "\n",
    "    if(doc[0].tag_ == 'NNP'):\n",
    "        return True\n",
    "    else:\n",
    "        return False\n",
    "\n",
    "check_noun(\"chakri\")"
   ]
  },
  {
   "cell_type": "code",
   "execution_count": 6,
   "metadata": {},
   "outputs": [
    {
     "name": "stdout",
     "output_type": "stream",
     "text": [
      "works\n"
     ]
    }
   ],
   "source": [
    "test = ['free', 'will', 'changing', 'destiny', 'choosing', 'love', 'choice', 'soul', 'conditioning', 'acceptance']\n",
    "\n",
    "if 'soul' in test:\n",
    "    print('works')"
   ]
  },
  {
   "cell_type": "code",
   "execution_count": 7,
   "metadata": {},
   "outputs": [],
   "source": [
    "def remove_stopwords(text):\n",
    "\n",
    "    # words = [word for word in text.split() if word.lower() not in sw_spacy]\n",
    "    # new_text = \" \".join(words)\n",
    "    # print(new_text)\n",
    "    # print(\"Old length: \", len(text))\n",
    "    # print(\"New length: \", len(new_text))\n",
    "\n",
    "    res = []\n",
    "    for word in text:\n",
    "        if word not in sw_spacy:\n",
    "            res.append(word)\n",
    "    return res\n"
   ]
  },
  {
   "cell_type": "code",
   "execution_count": 9,
   "metadata": {},
   "outputs": [
    {
     "name": "stdout",
     "output_type": "stream",
     "text": [
      "['live', 'in', 'the', 'present', 'to', 'create', 'the', 'life', 'you', 'desire']\n",
      "['the', 'present', 'living', 'in', 'now', 'gift', 'of', 'moment', 'unknown', 'future', 'painful', 'past']\n",
      "['present', 'live']\n"
     ]
    }
   ],
   "source": [
    "\n",
    "\n",
    "page = urlopen(\n",
    "    \"https://ezinearticles.com/?Live-In-the-Present-to-Create-the-Life-You-Desire&id=6504152\",\n",
    "    context=ssl.create_default_context(cafile=certifi.where()))\n",
    "\n",
    "\n",
    "soup = BeautifulSoup(page, 'html.parser')\n",
    "title = soup.title.string.lower().split()\n",
    "key = soup.select(\"meta[name='keywords']\")[0]['content'].lower().split(\",\")\n",
    "\n",
    "print(title)\n",
    "keywords = [] \n",
    "for k in key:\n",
    "    \n",
    "    for word in k.split():\n",
    "        if word not in keywords:\n",
    "            keywords.append(word)\n",
    "\n",
    "result=[]\n",
    "\n",
    "print(keywords)\n",
    "\n",
    "for word in title:\n",
    "    if check_noun(word):\n",
    "        if word not in result:\n",
    "            result.append(word)\n",
    "\n",
    "for word in keywords:\n",
    "    possible = d[stemmer.stem(word)]\n",
    "    for p in possible:\n",
    "        if p in title:\n",
    "            if p not in result:\n",
    "                result.append(p)\n",
    "        \n",
    "result= remove_stopwords(result)\n",
    "print(result)"
   ]
  },
  {
   "cell_type": "code",
   "execution_count": 12,
   "metadata": {},
   "outputs": [
    {
     "data": {
      "text/plain": [
       "<Response [403]>"
      ]
     },
     "execution_count": 12,
     "metadata": {},
     "output_type": "execute_result"
    }
   ],
   "source": [
    "url=\"https://ezinearticles.com/?Live-In-the-Present-to-Create-the-Life-You-Desire&id=6504152\"\n",
    "requests.get(url,verify=True)"
   ]
  },
  {
   "cell_type": "code",
   "execution_count": 35,
   "metadata": {},
   "outputs": [
    {
     "name": "stdout",
     "output_type": "stream",
     "text": [
      "[]\n"
     ]
    }
   ],
   "source": [
    "page = urlopen(\n",
    "    \"https://ezinearticles.com/?Live-In-the-Present-to-Create-the-Life-You-Desire&id=6504152\",\n",
    "    context=ssl.create_default_context(cafile=certifi.where()))\n",
    "\n",
    "\n",
    "soup = BeautifulSoup(page, 'html.parser')\n",
    "name = 'ezinearticles'\n",
    "found = []\n",
    "for a in soup.select('a[href]'):\n",
    "    b = a['href']\n",
    "    if 'https://' + name + '.com' in b and b not in found:\n",
    "        found.append(b)\n",
    "        break\n",
    "\n",
    "print(found)\n",
    "\n",
    "\n"
   ]
  },
  {
   "cell_type": "code",
   "execution_count": 59,
   "metadata": {},
   "outputs": [
    {
     "name": "stdout",
     "output_type": "stream",
     "text": [
      "/?The-Arsenal-Team-of-the-Decade-(1997-2007)&id=606410\n",
      "/?THE-MOST-HIGH-GOD-~-Fire-Baptisms-and-the-Anointed-Ones-(The-Cannabis-Revelation)&id=10467079\n",
      "/?Nirut-and-the-She-Ocean-(and-How-the-Nirut-Series-was-Written)&id=644444\n",
      "/?The-Value-of-the-Gift-of-Life&id=6507101\n",
      "/?Living-in-the-Present-Moment&id=1251181\n",
      "/?Tazaungmon-And-The-Tazaungdaing-Light-Festival&id=9075281\n",
      "/?The-Difference-Between-Being-Smart,-Educated,-and-Intelligent&id=2181806\n",
      "/?Finding-Your-Next-Step-in-the-Midst-of-Fear,-Pain,-Or-Chaos&id=1640380\n",
      "/?The-Aphrodite-Project---A-Discovery-of-Life-in-Cancer-Survivors&id=3478385\n",
      "/?The-Essentials-of-a-Good-Life&id=1874482\n"
     ]
    }
   ],
   "source": [
    "mydivs = soup.find_all(\"ul\", {\"class\": \"ea-similar-articles ea-article-list\"})[0]\n",
    "type(mydivs)\n",
    "#mydivs\n",
    "test1 = mydivs.findChildren('a')\n",
    "for i in range(0,len(test1)):\n",
    "    tag = test[i]\n",
    "    print(tag.get_attribute_list('href')[0])\n"
   ]
  }
 ],
 "metadata": {
  "kernelspec": {
   "display_name": "Python 3.9.1 64-bit",
   "language": "python",
   "name": "python3"
  },
  "language_info": {
   "codemirror_mode": {
    "name": "ipython",
    "version": 3
   },
   "file_extension": ".py",
   "mimetype": "text/x-python",
   "name": "python",
   "nbconvert_exporter": "python",
   "pygments_lexer": "ipython3",
   "version": "3.9.1"
  },
  "orig_nbformat": 4,
  "vscode": {
   "interpreter": {
    "hash": "daca86dfe90386ebecafa86302dd102978461e1263ffd5af8c9f541b523ba9f9"
   }
  }
 },
 "nbformat": 4,
 "nbformat_minor": 2
}
