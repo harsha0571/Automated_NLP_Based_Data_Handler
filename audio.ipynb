{
 "cells": [
  {
   "cell_type": "code",
   "execution_count": 1,
   "metadata": {},
   "outputs": [],
   "source": [
    "from pydub import AudioSegment\n",
    "import os\n",
    "\n",
    "def mp3_to_wav(source, skip=0, excerpt=False):\n",
    "    \n",
    "    sound = AudioSegment.from_mp3(source) # load source\n",
    "    sound = sound.set_channels(1) # mono\n",
    "    sound = sound.set_frame_rate(16000) # 16000Hz\n",
    "    \n",
    "    if excerpt:\n",
    "        excrept = sound[skip*1000:skip*1000+30000] # 30 seconds - Does not work anymore when using skip\n",
    "        output_path = os.path.splitext(source)[0]+\"_excerpt.wav\"\n",
    "        excrept.export(output_path, format=\"wav\")\n",
    "    else:\n",
    "        audio = sound[skip*1000:]\n",
    "        output_path = os.path.splitext(source)[0]+\".wav\"\n",
    "        audio.export(output_path, format=\"wav\")\n",
    "    \n",
    "    return output_path"
   ]
  },
  {
   "cell_type": "code",
   "execution_count": 2,
   "metadata": {},
   "outputs": [
    {
     "name": "stdout",
     "output_type": "stream",
     "text": [
      "datasets/audio/sir-do-you-remember-the-bank-robbery-where-four-people-were-killed-and-the-arrest-of-the-perp-where-a-young-man-was-shot-and-killed.wav\n"
     ]
    }
   ],
   "source": [
    "print(mp3_to_wav(\"datasets/audio/sir-do-you-remember-the-bank-robbery-where-four-people-were-killed-and-the-arrest-of-the-perp-where-a-young-man-was-shot-and-killed.mp3\"))"
   ]
  },
  {
   "cell_type": "code",
   "execution_count": 5,
   "metadata": {},
   "outputs": [
    {
     "name": "stdout",
     "output_type": "stream",
     "text": [
      "wow that brightest star do you remember the pan pacific bank robbery where four people were killed and the subsequent arrest of the perp where a young man was shot and killed\n"
     ]
    }
   ],
   "source": [
    "import wave\n",
    "\n",
    "wav_file = \"datasets/audio/sir-do-you-remember-the-bank-robbery-where-four-people-were-killed-and-the-arrest-of-the-perp-where-a-young-man-was-shot-and-killed.wav\"\n",
    "from vosk import Model, KaldiRecognizer, SetLogLevel\n",
    "# open audio file\n",
    "wf = wave.open(wav_file, \"rb\")\n",
    "\n",
    "# Initialize model\n",
    "# You can find several models at https://alphacephei.com/vosk/models\n",
    "# I decided to go with the largest vosk-model-en-us-0.22\n",
    "model = Model(\"datasets\\\\vosk-model-en-us-0.22\")\n",
    "rec = KaldiRecognizer(model, wf.getframerate())\n",
    "\n",
    "import json\n",
    "\n",
    "# To store our results\n",
    "transcription = []\n",
    "\n",
    "#rec.SetWords(True)\n",
    "\n",
    "while True:\n",
    "    data = wf.readframes(4000)\n",
    "    if len(data) == 0:\n",
    "        break\n",
    "    if rec.AcceptWaveform(data):\n",
    "        # Convert json output to dict\n",
    "        result_dict = json.loads(rec.Result())\n",
    "        # Extract text values and append them to transcription list\n",
    "        transcription.append(result_dict.get(\"text\", \"\"))\n",
    "\n",
    "# Get final bits of audio and flush the pipeline\n",
    "final_result = json.loads(rec.FinalResult())\n",
    "transcription.append(final_result.get(\"text\", \"\"))\n",
    "\n",
    "# merge or join all list elements to one big string\n",
    "transcription_text = ' '.join(transcription)\n",
    "print(transcription_text)"
   ]
  }
 ],
 "metadata": {
  "kernelspec": {
   "display_name": "Python 3.9.1 64-bit",
   "language": "python",
   "name": "python3"
  },
  "language_info": {
   "codemirror_mode": {
    "name": "ipython",
    "version": 3
   },
   "file_extension": ".py",
   "mimetype": "text/x-python",
   "name": "python",
   "nbconvert_exporter": "python",
   "pygments_lexer": "ipython3",
   "version": "3.9.1"
  },
  "orig_nbformat": 4,
  "vscode": {
   "interpreter": {
    "hash": "daca86dfe90386ebecafa86302dd102978461e1263ffd5af8c9f541b523ba9f9"
   }
  }
 },
 "nbformat": 4,
 "nbformat_minor": 2
}
